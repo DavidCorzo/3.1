{
  "nbformat": 4,
  "nbformat_minor": 0,
  "metadata": {
    "colab": {
      "name": "Lab03_Bayes_Gulio_Valenzuela.ipynb",
      "provenance": [],
      "collapsed_sections": [],
      "toc_visible": true
    },
    "kernelspec": {
      "name": "python3",
      "display_name": "Python 3"
    }
  },
  "cells": [
    {
      "cell_type": "markdown",
      "metadata": {
        "id": "NRDYSlr_bGzv"
      },
      "source": [
        "# **Social Network Ads Data**"
      ]
    },
    {
      "cell_type": "markdown",
      "metadata": {
        "id": "BfpnTUlQWVZ5"
      },
      "source": [
        "## Importing the libraries"
      ]
    },
    {
      "cell_type": "code",
      "metadata": {
        "id": "ZQ8WWcDIWN-V"
      },
      "source": [
        "import numpy as np\r\n",
        "import matplotlib.pyplot as plt\r\n",
        "import pandas as pd"
      ],
      "execution_count": null,
      "outputs": []
    },
    {
      "cell_type": "markdown",
      "metadata": {
        "id": "a0aTKNhLXXd2"
      },
      "source": [
        "## Importing the dataset"
      ]
    },
    {
      "cell_type": "code",
      "metadata": {
        "id": "bNzF1sB9XW3R"
      },
      "source": [
        "dataset = pd.read_csv('Social_Network_Ads.csv')\r\n",
        "X = dataset.iloc[:, [2, 3]].values\r\n",
        "y = dataset.iloc[:, 4].values"
      ],
      "execution_count": null,
      "outputs": []
    },
    {
      "cell_type": "markdown",
      "metadata": {
        "id": "Sc1VqwJQXtu6"
      },
      "source": [
        "## Splitting the dataset into the Training set and Test set"
      ]
    },
    {
      "cell_type": "code",
      "metadata": {
        "id": "Xg9Q9mnkXwzU"
      },
      "source": [
        "from sklearn.model_selection import train_test_split\r\n",
        "X_train, X_test, y_train, y_test = train_test_split(X, y, test_size = 0.25, random_state = 0)"
      ],
      "execution_count": null,
      "outputs": []
    },
    {
      "cell_type": "markdown",
      "metadata": {
        "id": "JnCaLiylYJQz"
      },
      "source": [
        "## Feature Scaling"
      ]
    },
    {
      "cell_type": "code",
      "metadata": {
        "id": "2miYJl5-YSQi"
      },
      "source": [
        "from sklearn.preprocessing import StandardScaler\r\n",
        "sc = StandardScaler()\r\n",
        "X_train = sc.fit_transform(X_train)\r\n",
        "X_test = sc.transform(X_test)"
      ],
      "execution_count": null,
      "outputs": []
    },
    {
      "cell_type": "markdown",
      "metadata": {
        "id": "DLT6xNl-YWbY"
      },
      "source": [
        "## Fitting Naive Bayes to the Training set"
      ]
    },
    {
      "cell_type": "code",
      "metadata": {
        "colab": {
          "base_uri": "https://localhost:8080/"
        },
        "id": "ZVBj5-URYeOq",
        "outputId": "0359be14-ac9d-4648-89cf-ff33b2cca86b"
      },
      "source": [
        "from sklearn.naive_bayes import GaussianNB\r\n",
        "classifier = GaussianNB()\r\n",
        "classifier.fit(X_train, y_train)"
      ],
      "execution_count": null,
      "outputs": [
        {
          "output_type": "execute_result",
          "data": {
            "text/plain": [
              "GaussianNB(priors=None, var_smoothing=1e-09)"
            ]
          },
          "metadata": {
            "tags": []
          },
          "execution_count": 34
        }
      ]
    },
    {
      "cell_type": "markdown",
      "metadata": {
        "id": "lTsqzssiYjbV"
      },
      "source": [
        "## Predicting the Test set results"
      ]
    },
    {
      "cell_type": "code",
      "metadata": {
        "id": "vDgwu6QhYmNi"
      },
      "source": [
        "y_pred = classifier.predict(X_test)"
      ],
      "execution_count": null,
      "outputs": []
    },
    {
      "cell_type": "code",
      "metadata": {
        "colab": {
          "base_uri": "https://localhost:8080/"
        },
        "id": "Ay-G5Yg7d83v",
        "outputId": "7b8e5b13-d0e1-4e0f-b761-ab262160cb10"
      },
      "source": [
        "print(y_pred)\r\n",
        "print(y_test)"
      ],
      "execution_count": null,
      "outputs": [
        {
          "output_type": "stream",
          "text": [
            "[0 0 0 0 0 0 0 1 0 1 0 0 0 0 0 0 0 0 1 0 0 1 0 1 0 1 0 0 0 0 0 0 1 0 0 0 0\n",
            " 0 0 1 0 0 0 0 1 0 0 1 0 1 1 0 0 1 1 0 0 0 1 0 0 1 0 0 0 1 0 0 0 0 1 0 0 0\n",
            " 0 0 0 0 1 1 1 1 0 0 1 0 0 1 0 0 0 1 0 0 0 0 0 1 1 1]\n",
            "[0 0 0 0 0 0 0 1 0 0 0 0 0 0 0 0 0 0 1 0 0 1 0 1 0 1 0 0 0 0 0 1 1 0 0 0 0\n",
            " 0 0 1 0 0 0 0 1 0 0 1 0 1 1 0 0 0 1 1 0 0 1 0 0 1 0 1 0 1 0 0 0 0 1 0 0 1\n",
            " 0 0 0 0 1 1 1 0 0 0 1 1 0 1 1 0 0 1 0 0 0 1 0 1 1 1]\n"
          ],
          "name": "stdout"
        }
      ]
    },
    {
      "cell_type": "markdown",
      "metadata": {
        "id": "gfnIFKb4Yod_"
      },
      "source": [
        "## Making the Confusion Matrix"
      ]
    },
    {
      "cell_type": "code",
      "metadata": {
        "colab": {
          "base_uri": "https://localhost:8080/"
        },
        "id": "oKc0_qyJYsNu",
        "outputId": "74033ef5-34a5-4ab6-de9d-c20635531cdd"
      },
      "source": [
        "from sklearn.metrics import confusion_matrix\r\n",
        "cm = confusion_matrix(y_test, y_pred)\r\n",
        "print(cm)"
      ],
      "execution_count": null,
      "outputs": [
        {
          "output_type": "stream",
          "text": [
            "[[65  3]\n",
            " [ 7 25]]\n"
          ],
          "name": "stdout"
        }
      ]
    },
    {
      "cell_type": "code",
      "metadata": {
        "colab": {
          "base_uri": "https://localhost:8080/"
        },
        "id": "6riPmewFZKh1",
        "outputId": "bc2cc904-6732-4549-fecb-e0c089efb577"
      },
      "source": [
        "accuracy1 = (90/(65+3+7+25))\r\n",
        "print(accuracy1)\r\n",
        "from sklearn.metrics import accuracy_score\r\n",
        "accuracy2 = accuracy_score(y_test, y_pred)\r\n",
        "print(accuracy2)"
      ],
      "execution_count": null,
      "outputs": [
        {
          "output_type": "stream",
          "text": [
            "0.9\n",
            "0.9\n"
          ],
          "name": "stdout"
        }
      ]
    },
    {
      "cell_type": "markdown",
      "metadata": {
        "id": "1cjp7JS4Y64v"
      },
      "source": [
        "## Visualising the Training set results"
      ]
    },
    {
      "cell_type": "code",
      "metadata": {
        "colab": {
          "base_uri": "https://localhost:8080/",
          "height": 351
        },
        "id": "z8P0VucOY-mo",
        "outputId": "68682df9-9928-4201-94d6-753990055eca"
      },
      "source": [
        "from matplotlib.colors import ListedColormap\r\n",
        "X_set, y_set = X_train, y_train\r\n",
        "X1, X2 = np.meshgrid(np.arange(start = X_set[:, 0].min() - 1, stop = X_set[:, 0].max() + 1, step = 0.01),\r\n",
        "                     np.arange(start = X_set[:, 1].min() - 1, stop = X_set[:, 1].max() + 1, step = 0.01))\r\n",
        "plt.contourf(X1, X2, classifier.predict(np.array([X1.ravel(), X2.ravel()]).T).reshape(X1.shape),\r\n",
        "             alpha = 0.75, cmap = ListedColormap(('red', 'green')))\r\n",
        "plt.xlim(X1.min(), X1.max())\r\n",
        "plt.ylim(X2.min(), X2.max())\r\n",
        "for i, j in enumerate(np.unique(y_set)):\r\n",
        "    plt.scatter(X_set[y_set == j, 0], X_set[y_set == j, 1],\r\n",
        "                c = ListedColormap(('red', 'green'))(i), label = j)\r\n",
        "plt.title('Naive Bayes (Training set)')\r\n",
        "plt.xlabel('Age')\r\n",
        "plt.ylabel('Estimated Salary')\r\n",
        "plt.legend()\r\n",
        "plt.show()"
      ],
      "execution_count": null,
      "outputs": [
        {
          "output_type": "stream",
          "text": [
            "*c* argument looks like a single numeric RGB or RGBA sequence, which should be avoided as value-mapping will have precedence in case its length matches with *x* & *y*.  Please use the *color* keyword-argument or provide a 2-D array with a single row if you intend to specify the same RGB or RGBA value for all points.\n",
            "*c* argument looks like a single numeric RGB or RGBA sequence, which should be avoided as value-mapping will have precedence in case its length matches with *x* & *y*.  Please use the *color* keyword-argument or provide a 2-D array with a single row if you intend to specify the same RGB or RGBA value for all points.\n"
          ],
          "name": "stderr"
        },
        {
          "output_type": "display_data",
          "data": {
            "image/png": "[encoded data removed]",
            "text/plain": [
              "<Figure size 432x288 with 1 Axes>"
            ]
          },
          "metadata": {
            "tags": [],
            "needs_background": "light"
          }
        }
      ]
    },
    {
      "cell_type": "markdown",
      "metadata": {
        "id": "yDgfikXKZCvI"
      },
      "source": [
        "## Visualising the Test set results"
      ]
    },
    {
      "cell_type": "code",
      "metadata": {
        "colab": {
          "base_uri": "https://localhost:8080/",
          "height": 351
        },
        "id": "9He63Q8NZFOd",
        "outputId": "3e435270-942d-4549-a62b-ed7b02ccc309"
      },
      "source": [
        "from matplotlib.colors import ListedColormap\r\n",
        "X_set, y_set = X_test, y_test\r\n",
        "X1, X2 = np.meshgrid(np.arange(start = X_set[:, 0].min() - 1, stop = X_set[:, 0].max() + 1, step = 0.01),\r\n",
        "                     np.arange(start = X_set[:, 1].min() - 1, stop = X_set[:, 1].max() + 1, step = 0.01))\r\n",
        "plt.contourf(X1, X2, classifier.predict(np.array([X1.ravel(), X2.ravel()]).T).reshape(X1.shape),\r\n",
        "             alpha = 0.75, cmap = ListedColormap(('red', 'green')))\r\n",
        "plt.xlim(X1.min(), X1.max())\r\n",
        "plt.ylim(X2.min(), X2.max())\r\n",
        "for i, j in enumerate(np.unique(y_set)):\r\n",
        "    plt.scatter(X_set[y_set == j, 0], X_set[y_set == j, 1],\r\n",
        "                c = ListedColormap(('red', 'green'))(i), label = j)\r\n",
        "plt.title('Naive Bayes (Test set)')\r\n",
        "plt.xlabel('Age')\r\n",
        "plt.ylabel('Estimated Salary')\r\n",
        "plt.legend()\r\n",
        "plt.show()"
      ],
      "execution_count": null,
      "outputs": [
        {
          "output_type": "stream",
          "text": [
            "*c* argument looks like a single numeric RGB or RGBA sequence, which should be avoided as value-mapping will have precedence in case its length matches with *x* & *y*.  Please use the *color* keyword-argument or provide a 2-D array with a single row if you intend to specify the same RGB or RGBA value for all points.\n",
            "*c* argument looks like a single numeric RGB or RGBA sequence, which should be avoided as value-mapping will have precedence in case its length matches with *x* & *y*.  Please use the *color* keyword-argument or provide a 2-D array with a single row if you intend to specify the same RGB or RGBA value for all points.\n"
          ],
          "name": "stderr"
        },
        {
          "output_type": "display_data",
          "data": {
            "image/png": "[encoded data removed]",
            "text/plain": [
              "<Figure size 432x288 with 1 Axes>"
            ]
          },
          "metadata": {
            "tags": [],
            "needs_background": "light"
          }
        }
      ]
    },
    {
      "cell_type": "markdown",
      "metadata": {
        "id": "paH4sjXVajHh"
      },
      "source": [
        "# **Iris Data**"
      ]
    },
    {
      "cell_type": "markdown",
      "metadata": {
        "id": "rzqm999Sbjjp"
      },
      "source": [
        "## Importing the dataset"
      ]
    },
    {
      "cell_type": "code",
      "metadata": {
        "id": "0GP0A8ipbZXE"
      },
      "source": [
        "dataset = pd.read_csv('iris-data-clean.csv')\r\n",
        "X = dataset.iloc[:, [0, 3]].values\r\n",
        "y = dataset.iloc[:, 4].values"
      ],
      "execution_count": null,
      "outputs": []
    },
    {
      "cell_type": "markdown",
      "metadata": {
        "id": "EJ9hCgwBb43Y"
      },
      "source": [
        "## Splitting the dataset into the Training set and Test set"
      ]
    },
    {
      "cell_type": "code",
      "metadata": {
        "id": "thKrVbEQb12i"
      },
      "source": [
        "from sklearn.model_selection import train_test_split\r\n",
        "X_train, X_test, y_train, y_test = train_test_split(X, y, test_size = 0.25, random_state = 0)"
      ],
      "execution_count": null,
      "outputs": []
    },
    {
      "cell_type": "markdown",
      "metadata": {
        "id": "PklFCB_pcGY5"
      },
      "source": [
        "## Fitting Naive Bayes to the Training set"
      ]
    },
    {
      "cell_type": "code",
      "metadata": {
        "colab": {
          "base_uri": "https://localhost:8080/"
        },
        "id": "Wnd0XXyQcUMz",
        "outputId": "ed350be0-5fdd-49cb-ba95-cfe10091ffd5"
      },
      "source": [
        "from sklearn.naive_bayes import GaussianNB\r\n",
        "classifier = GaussianNB()\r\n",
        "classifier.fit(X_train, y_train)"
      ],
      "execution_count": null,
      "outputs": [
        {
          "output_type": "execute_result",
          "data": {
            "text/plain": [
              "GaussianNB(priors=None, var_smoothing=1e-09)"
            ]
          },
          "metadata": {
            "tags": []
          },
          "execution_count": 43
        }
      ]
    },
    {
      "cell_type": "markdown",
      "metadata": {
        "id": "rAXE9GzbcZHb"
      },
      "source": [
        "## Predicting the Test set results"
      ]
    },
    {
      "cell_type": "code",
      "metadata": {
        "id": "YRdDRo3VcpYN"
      },
      "source": [
        "y_pred = classifier.predict(X_test)"
      ],
      "execution_count": null,
      "outputs": []
    },
    {
      "cell_type": "code",
      "metadata": {
        "colab": {
          "base_uri": "https://localhost:8080/"
        },
        "id": "f10QTJ8XeGuG",
        "outputId": "e8c79dde-09c2-414f-c73f-87d13723fa91"
      },
      "source": [
        "print(y_pred)\r\n",
        "print(y_test)"
      ],
      "execution_count": null,
      "outputs": [
        {
          "output_type": "stream",
          "text": [
            "[1 2 1 1 0 2 2 1 1 1 0 0 1 0 0 1 2 1 0 0 0 0 1 0 1 1 1 0 0 2 0 1 1 2 0 1 2\n",
            " 1]\n",
            "[2 2 1 1 0 2 2 1 2 1 0 0 1 0 0 2 2 1 0 0 0 0 1 0 1 1 1 0 0 2 0 1 1 1 0 2 2\n",
            " 1]\n"
          ],
          "name": "stdout"
        }
      ]
    },
    {
      "cell_type": "markdown",
      "metadata": {
        "id": "L9YM0IjBc0Wb"
      },
      "source": [
        "## Making the Confusion Matrix"
      ]
    },
    {
      "cell_type": "code",
      "metadata": {
        "colab": {
          "base_uri": "https://localhost:8080/"
        },
        "id": "qfF_WLJIcuxJ",
        "outputId": "58b4d26c-e1a8-4e58-88f2-7d0be3bacc9f"
      },
      "source": [
        "from sklearn.metrics import confusion_matrix\r\n",
        "cm = confusion_matrix(y_test, y_pred)\r\n",
        "print(cm)"
      ],
      "execution_count": null,
      "outputs": [
        {
          "output_type": "stream",
          "text": [
            "[[14  0  0]\n",
            " [ 0 13  1]\n",
            " [ 0  4  6]]\n"
          ],
          "name": "stdout"
        }
      ]
    },
    {
      "cell_type": "code",
      "metadata": {
        "colab": {
          "base_uri": "https://localhost:8080/"
        },
        "id": "wnoVnQHDdLlh",
        "outputId": "665f3323-8c51-42af-80eb-08b30651a688"
      },
      "source": [
        "accuracy1 = ((13+14+6)/(14+13+6+4+1))\r\n",
        "print(accuracy1)\r\n",
        "from sklearn.metrics import accuracy_score\r\n",
        "accuracy2 = accuracy_score(y_test, y_pred)\r\n",
        "print(accuracy2)"
      ],
      "execution_count": null,
      "outputs": [
        {
          "output_type": "stream",
          "text": [
            "0.868421052631579\n",
            "0.868421052631579\n"
          ],
          "name": "stdout"
        }
      ]
    },
    {
      "cell_type": "markdown",
      "metadata": {
        "id": "3lhTBhszdjuK"
      },
      "source": [
        "## Visualising the Training set results"
      ]
    },
    {
      "cell_type": "code",
      "metadata": {
        "colab": {
          "base_uri": "https://localhost:8080/",
          "height": 368
        },
        "id": "rs8JQ-nEdlIp",
        "outputId": "4356d8a6-8999-47b3-ad7c-869710ce3201"
      },
      "source": [
        "from matplotlib.colors import ListedColormap\r\n",
        "X_set, y_set = X_train, y_train\r\n",
        "X1, X2 = np.meshgrid(np.arange(start = X_set[:, 0].min() - 1, stop = X_set[:, 0].max() + 1, step = 0.01),\r\n",
        "                     np.arange(start = X_set[:, 1].min() - 1, stop = X_set[:, 1].max() + 1, step = 0.01))\r\n",
        "plt.contourf(X1, X2, classifier.predict(np.array([X1.ravel(), X2.ravel()]).T).reshape(X1.shape),\r\n",
        "             alpha = 0.75, cmap = ListedColormap(('red', 'green','blue')))\r\n",
        "plt.xlim(X1.min(), X1.max())\r\n",
        "plt.ylim(X2.min(), X2.max())\r\n",
        "for i, j in enumerate(np.unique(y_set)):\r\n",
        "    plt.scatter(X_set[y_set == j, 0], X_set[y_set == j, 1],\r\n",
        "                c = ListedColormap(('red', 'green','blue'))(i), label = j)\r\n",
        "plt.title('Naive Bayes (Training set)')\r\n",
        "plt.xlabel('Age')\r\n",
        "plt.ylabel('Estimated Salary')\r\n",
        "plt.legend()\r\n",
        "plt.show()"
      ],
      "execution_count": null,
      "outputs": [
        {
          "output_type": "stream",
          "text": [
            "*c* argument looks like a single numeric RGB or RGBA sequence, which should be avoided as value-mapping will have precedence in case its length matches with *x* & *y*.  Please use the *color* keyword-argument or provide a 2-D array with a single row if you intend to specify the same RGB or RGBA value for all points.\n",
            "*c* argument looks like a single numeric RGB or RGBA sequence, which should be avoided as value-mapping will have precedence in case its length matches with *x* & *y*.  Please use the *color* keyword-argument or provide a 2-D array with a single row if you intend to specify the same RGB or RGBA value for all points.\n",
            "*c* argument looks like a single numeric RGB or RGBA sequence, which should be avoided as value-mapping will have precedence in case its length matches with *x* & *y*.  Please use the *color* keyword-argument or provide a 2-D array with a single row if you intend to specify the same RGB or RGBA value for all points.\n"
          ],
          "name": "stderr"
        },
        {
          "output_type": "display_data",
          "data": {
            "image/png": "[encoded data removed]",
            "text/plain": [
              "<Figure size 432x288 with 1 Axes>"
            ]
          },
          "metadata": {
            "tags": [],
            "needs_background": "light"
          }
        }
      ]
    },
    {
      "cell_type": "markdown",
      "metadata": {
        "id": "9C4p5i9DdqTH"
      },
      "source": [
        "## Visualising the Test set results"
      ]
    },
    {
      "cell_type": "code",
      "metadata": {
        "colab": {
          "base_uri": "https://localhost:8080/",
          "height": 368
        },
        "id": "RQqBwszdduO4",
        "outputId": "5494c0ee-67ae-4e5a-f6d9-4e524d5ae233"
      },
      "source": [
        "from matplotlib.colors import ListedColormap\r\n",
        "X_set, y_set = X_test, y_test\r\n",
        "X1, X2 = np.meshgrid(np.arange(start = X_set[:, 0].min() - 1, stop = X_set[:, 0].max() + 1, step = 0.01),\r\n",
        "                     np.arange(start = X_set[:, 1].min() - 1, stop = X_set[:, 1].max() + 1, step = 0.01))\r\n",
        "plt.contourf(X1, X2, classifier.predict(np.array([X1.ravel(), X2.ravel()]).T).reshape(X1.shape),\r\n",
        "             alpha = 0.75, cmap = ListedColormap(('red', 'green','blue')))\r\n",
        "plt.xlim(X1.min(), X1.max())\r\n",
        "plt.ylim(X2.min(), X2.max())\r\n",
        "for i, j in enumerate(np.unique(y_set)):\r\n",
        "    plt.scatter(X_set[y_set == j, 0], X_set[y_set == j, 1],\r\n",
        "                c = ListedColormap(('red', 'green','blue'))(i), label = j)\r\n",
        "plt.title('Naive Bayes (Test set)')\r\n",
        "plt.xlabel('Age')\r\n",
        "plt.ylabel('Estimated Salary')\r\n",
        "plt.legend()\r\n",
        "plt.show()"
      ],
      "execution_count": null,
      "outputs": [
        {
          "output_type": "stream",
          "text": [
            "*c* argument looks like a single numeric RGB or RGBA sequence, which should be avoided as value-mapping will have precedence in case its length matches with *x* & *y*.  Please use the *color* keyword-argument or provide a 2-D array with a single row if you intend to specify the same RGB or RGBA value for all points.\n",
            "*c* argument looks like a single numeric RGB or RGBA sequence, which should be avoided as value-mapping will have precedence in case its length matches with *x* & *y*.  Please use the *color* keyword-argument or provide a 2-D array with a single row if you intend to specify the same RGB or RGBA value for all points.\n",
            "*c* argument looks like a single numeric RGB or RGBA sequence, which should be avoided as value-mapping will have precedence in case its length matches with *x* & *y*.  Please use the *color* keyword-argument or provide a 2-D array with a single row if you intend to specify the same RGB or RGBA value for all points.\n"
          ],
          "name": "stderr"
        },
        {
          "output_type": "display_data",
          "data": {
            "image/png": "[encoded data removed]",
            "text/plain": [
              "<Figure size 432x288 with 1 Axes>"
            ]
          },
          "metadata": {
            "tags": [],
            "needs_background": "light"
          }
        }
      ]
    }
  ]
}