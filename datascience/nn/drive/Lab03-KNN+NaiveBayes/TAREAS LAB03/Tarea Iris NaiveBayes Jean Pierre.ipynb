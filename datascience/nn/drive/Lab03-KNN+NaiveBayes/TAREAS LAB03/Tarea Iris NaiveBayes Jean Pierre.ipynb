{
 "cells": [
  {
   "cell_type": "markdown",
   "metadata": {},
   "source": [
    "# Naive Bayes"
   ]
  },
  {
   "cell_type": "markdown",
   "metadata": {},
   "source": [
    "## Usando el petla (ancho y largo)\n",
    "---"
   ]
  },
  {
   "cell_type": "code",
   "execution_count": 2,
   "metadata": {},
   "outputs": [],
   "source": [
    "# Importing the libraries\n",
    "import numpy as np\n",
    "import matplotlib.pyplot as plt\n",
    "import pandas as pd"
   ]
  },
  {
   "cell_type": "code",
   "execution_count": 44,
   "metadata": {},
   "outputs": [],
   "source": [
    "# Importing the dataset\n",
    "dataset = pd.read_csv('iris-data-clean.csv')\n",
    "X = dataset.iloc[:, [2,3]].values #petal lenght\n",
    "y = dataset.iloc[:, 4].values #petal width\n",
    "#ilox[filas, columnas]"
   ]
  },
  {
   "cell_type": "code",
   "execution_count": 45,
   "metadata": {},
   "outputs": [
    {
     "name": "stdout",
     "output_type": "stream",
     "text": [
      "[[1.4  0.2 ]\n",
      " [1.4  0.2 ]\n",
      " [1.3  0.2 ]\n",
      " [1.5  0.2 ]\n",
      " [1.4  0.2 ]\n",
      " [1.7  0.4 ]\n",
      " [1.4  0.3 ]\n",
      " [1.5  0.25]\n",
      " [1.4  0.25]\n",
      " [1.5  0.25]\n",
      " [1.5  0.25]\n",
      " [1.6  0.25]\n",
      " [1.4  0.1 ]\n",
      " [1.1  0.1 ]\n",
      " [1.2  0.2 ]\n",
      " [1.5  0.4 ]\n",
      " [1.3  0.4 ]\n",
      " [1.4  0.3 ]\n",
      " [1.7  0.3 ]\n",
      " [1.5  0.3 ]\n",
      " [1.7  0.2 ]\n",
      " [1.5  0.4 ]\n",
      " [1.   0.2 ]\n",
      " [1.7  0.5 ]\n",
      " [1.9  0.2 ]\n",
      " [1.6  0.2 ]\n",
      " [1.6  0.4 ]\n",
      " [1.5  0.2 ]\n",
      " [1.4  0.2 ]\n",
      " [1.6  0.2 ]\n",
      " [1.6  0.2 ]\n",
      " [1.5  0.4 ]\n",
      " [1.5  0.1 ]\n",
      " [1.4  0.2 ]\n",
      " [1.5  0.1 ]\n",
      " [1.2  0.2 ]\n",
      " [1.3  0.2 ]\n",
      " [1.5  0.1 ]\n",
      " [1.3  0.2 ]\n",
      " [1.5  0.2 ]\n",
      " [1.3  0.3 ]\n",
      " [1.3  0.2 ]\n",
      " [1.6  0.6 ]\n",
      " [1.9  0.4 ]\n",
      " [1.4  0.3 ]\n",
      " [1.6  0.2 ]\n",
      " [1.4  0.2 ]\n",
      " [1.5  0.2 ]\n",
      " [1.4  0.2 ]\n",
      " [4.7  1.4 ]\n",
      " [4.5  1.5 ]\n",
      " [4.9  1.5 ]\n",
      " [4.   1.3 ]\n",
      " [4.6  1.5 ]\n",
      " [4.5  1.3 ]\n",
      " [4.7  1.6 ]\n",
      " [3.3  1.  ]\n",
      " [4.6  1.3 ]\n",
      " [3.9  1.4 ]\n",
      " [3.5  1.  ]\n",
      " [4.2  1.5 ]\n",
      " [4.   1.  ]\n",
      " [4.7  1.4 ]\n",
      " [3.6  1.3 ]\n",
      " [4.4  1.4 ]\n",
      " [4.5  1.5 ]\n",
      " [4.1  1.  ]\n",
      " [4.5  1.5 ]\n",
      " [3.9  1.1 ]\n",
      " [4.8  1.8 ]\n",
      " [4.   1.3 ]\n",
      " [4.9  1.5 ]\n",
      " [4.7  1.2 ]\n",
      " [4.3  1.3 ]\n",
      " [4.4  1.4 ]\n",
      " [4.8  1.4 ]\n",
      " [5.   1.7 ]\n",
      " [4.5  1.5 ]\n",
      " [3.5  1.  ]\n",
      " [3.8  1.1 ]\n",
      " [3.7  1.  ]\n",
      " [3.9  1.2 ]\n",
      " [5.1  1.6 ]\n",
      " [4.5  1.5 ]\n",
      " [4.5  1.6 ]\n",
      " [4.7  1.5 ]\n",
      " [4.4  1.3 ]\n",
      " [4.1  1.3 ]\n",
      " [4.   1.3 ]\n",
      " [4.4  1.2 ]\n",
      " [4.6  1.4 ]\n",
      " [4.   1.2 ]\n",
      " [3.3  1.  ]\n",
      " [4.2  1.3 ]\n",
      " [4.2  1.2 ]\n",
      " [4.2  1.3 ]\n",
      " [4.3  1.3 ]\n",
      " [3.   1.1 ]\n",
      " [4.1  1.3 ]\n",
      " [6.   2.5 ]\n",
      " [5.1  1.9 ]\n",
      " [5.9  2.1 ]\n",
      " [5.6  1.8 ]\n",
      " [5.8  2.2 ]\n",
      " [6.6  2.1 ]\n",
      " [4.5  1.7 ]\n",
      " [6.3  1.8 ]\n",
      " [5.8  1.8 ]\n",
      " [6.1  2.5 ]\n",
      " [5.1  2.  ]\n",
      " [5.3  1.9 ]\n",
      " [5.5  2.1 ]\n",
      " [5.   2.  ]\n",
      " [5.1  2.4 ]\n",
      " [5.3  2.3 ]\n",
      " [5.5  1.8 ]\n",
      " [6.7  2.2 ]\n",
      " [6.9  2.3 ]\n",
      " [5.   1.5 ]\n",
      " [5.7  2.3 ]\n",
      " [4.9  2.  ]\n",
      " [6.7  2.  ]\n",
      " [4.9  1.8 ]\n",
      " [5.7  2.1 ]\n",
      " [6.   1.8 ]\n",
      " [4.8  1.8 ]\n",
      " [4.9  1.8 ]\n",
      " [5.6  2.1 ]\n",
      " [5.8  1.6 ]\n",
      " [6.1  1.9 ]\n",
      " [6.4  2.  ]\n",
      " [5.6  2.2 ]\n",
      " [5.1  1.5 ]\n",
      " [5.6  1.4 ]\n",
      " [6.1  2.3 ]\n",
      " [5.6  2.4 ]\n",
      " [5.5  1.8 ]\n",
      " [4.8  1.8 ]\n",
      " [5.4  2.1 ]\n",
      " [5.6  2.4 ]\n",
      " [5.1  2.3 ]\n",
      " [5.1  1.9 ]\n",
      " [5.9  2.3 ]\n",
      " [5.7  2.5 ]\n",
      " [5.2  2.3 ]\n",
      " [5.   2.3 ]\n",
      " [5.2  2.  ]\n",
      " [5.4  2.3 ]\n",
      " [5.1  1.8 ]]\n",
      "[0 0 0 0 0 0 0 0 0 0 0 0 0 0 0 0 0 0 0 0 0 0 0 0 0 0 0 0 0 0 0 0 0 0 0 0 0\n",
      " 0 0 0 0 0 0 0 0 0 0 0 0 1 1 1 1 1 1 1 1 1 1 1 1 1 1 1 1 1 1 1 1 1 1 1 1 1\n",
      " 1 1 1 1 1 1 1 1 1 1 1 1 1 1 1 1 1 1 1 1 1 1 1 1 1 2 2 2 2 2 2 2 2 2 2 2 2\n",
      " 2 2 2 2 2 2 2 2 2 2 2 2 2 2 2 2 2 2 2 2 2 2 2 2 2 2 2 2 2 2 2 2 2 2 2 2 2\n",
      " 2]\n"
     ]
    }
   ],
   "source": [
    "print(X)\n",
    "print(y)"
   ]
  },
  {
   "cell_type": "code",
   "execution_count": 46,
   "metadata": {},
   "outputs": [],
   "source": [
    "# Splitting the dataset into the Training set and Test set\n",
    "from sklearn.model_selection import train_test_split\n",
    "X_train, X_test, y_train, y_test = train_test_split(X, y, test_size = 0.25, random_state = 0)\n"
   ]
  },
  {
   "cell_type": "code",
   "execution_count": 47,
   "metadata": {},
   "outputs": [],
   "source": [
    "# Feature Scaling\n",
    "from sklearn.preprocessing import StandardScaler\n",
    "sc = StandardScaler()\n",
    "X_train = sc.fit_transform(X_train)\n",
    "X_test = sc.transform(X_test)"
   ]
  },
  {
   "cell_type": "code",
   "execution_count": 48,
   "metadata": {},
   "outputs": [
    {
     "data": {
      "text/plain": [
       "GaussianNB()"
      ]
     },
     "execution_count": 48,
     "metadata": {},
     "output_type": "execute_result"
    }
   ],
   "source": [
    "# Fitting Naive Bayes to the Training set\n",
    "from sklearn.naive_bayes import GaussianNB\n",
    "classifier = GaussianNB()\n",
    "classifier.fit(X_train, y_train)"
   ]
  },
  {
   "cell_type": "code",
   "execution_count": 49,
   "metadata": {},
   "outputs": [],
   "source": [
    "# Predicting the Test set results\n",
    "y_pred = classifier.predict(X_test)"
   ]
  },
  {
   "cell_type": "code",
   "execution_count": 50,
   "metadata": {},
   "outputs": [],
   "source": [
    "# Making the Confusion Matrix\n",
    "from sklearn.metrics import confusion_matrix\n",
    "cm = confusion_matrix(y_test, y_pred)"
   ]
  },
  {
   "cell_type": "code",
   "execution_count": 56,
   "metadata": {},
   "outputs": [
    {
     "name": "stderr",
     "output_type": "stream",
     "text": [
      "*c* argument looks like a single numeric RGB or RGBA sequence, which should be avoided as value-mapping will have precedence in case its length matches with *x* & *y*.  Please use the *color* keyword-argument or provide a 2-D array with a single row if you intend to specify the same RGB or RGBA value for all points.\n",
      "*c* argument looks like a single numeric RGB or RGBA sequence, which should be avoided as value-mapping will have precedence in case its length matches with *x* & *y*.  Please use the *color* keyword-argument or provide a 2-D array with a single row if you intend to specify the same RGB or RGBA value for all points.\n",
      "*c* argument looks like a single numeric RGB or RGBA sequence, which should be avoided as value-mapping will have precedence in case its length matches with *x* & *y*.  Please use the *color* keyword-argument or provide a 2-D array with a single row if you intend to specify the same RGB or RGBA value for all points.\n"
     ]
    },
    {
     "data": {
      "image/png": "[encoded data removed]",
      "text/plain": [
       "<Figure size 432x288 with 1 Axes>"
      ]
     },
     "metadata": {
      "needs_background": "light"
     },
     "output_type": "display_data"
    }
   ],
   "source": [
    "# Visualising the Training set results\n",
    "from matplotlib.colors import ListedColormap\n",
    "X_set, y_set = X_train, y_train\n",
    "X1, X2 = np.meshgrid(np.arange(start = X_set[:, 0].min() - 1, stop = X_set[:, 0].max() + 1, step = 0.01),\n",
    "                     np.arange(start = X_set[:, 1].min() - 1, stop = X_set[:, 1].max() + 1, step = 0.01))\n",
    "plt.contourf(X1, X2, classifier.predict(np.array([X1.ravel(), X2.ravel()]).T).reshape(X1.shape),\n",
    "             alpha = 0.75, cmap = ListedColormap(('red', 'green', 'purple')))\n",
    "plt.xlim(X1.min(), X1.max())\n",
    "plt.ylim(X2.min(), X2.max())\n",
    "for i, j in enumerate(np.unique(y_set)):\n",
    "    plt.scatter(X_set[y_set == j, 0], X_set[y_set == j, 1],\n",
    "                c = ListedColormap(('red', 'green', 'purple'))(i), label = j)\n",
    "plt.title('Naive Bayes (Training set)')\n",
    "plt.xlabel('lenght')\n",
    "plt.ylabel('width')\n",
    "plt.legend()\n",
    "plt.show()"
   ]
  },
  {
   "cell_type": "code",
   "execution_count": 55,
   "metadata": {},
   "outputs": [
    {
     "name": "stderr",
     "output_type": "stream",
     "text": [
      "*c* argument looks like a single numeric RGB or RGBA sequence, which should be avoided as value-mapping will have precedence in case its length matches with *x* & *y*.  Please use the *color* keyword-argument or provide a 2-D array with a single row if you intend to specify the same RGB or RGBA value for all points.\n",
      "*c* argument looks like a single numeric RGB or RGBA sequence, which should be avoided as value-mapping will have precedence in case its length matches with *x* & *y*.  Please use the *color* keyword-argument or provide a 2-D array with a single row if you intend to specify the same RGB or RGBA value for all points.\n",
      "*c* argument looks like a single numeric RGB or RGBA sequence, which should be avoided as value-mapping will have precedence in case its length matches with *x* & *y*.  Please use the *color* keyword-argument or provide a 2-D array with a single row if you intend to specify the same RGB or RGBA value for all points.\n"
     ]
    },
    {
     "data": {
      "image/png": "[encoded data removed]",
      "text/plain": [
       "<Figure size 432x288 with 1 Axes>"
      ]
     },
     "metadata": {
      "needs_background": "light"
     },
     "output_type": "display_data"
    }
   ],
   "source": [
    "# Visualising the Test set results\n",
    "from matplotlib.colors import ListedColormap\n",
    "X_set, y_set = X_test, y_test\n",
    "X1, X2 = np.meshgrid(np.arange(start = X_set[:, 0].min() - 1, stop = X_set[:, 0].max() + 1, step = 0.01),\n",
    "                     np.arange(start = X_set[:, 1].min() - 1, stop = X_set[:, 1].max() + 1, step = 0.01))\n",
    "plt.contourf(X1, X2, classifier.predict(np.array([X1.ravel(), X2.ravel()]).T).reshape(X1.shape),\n",
    "             alpha = 0.75, cmap = ListedColormap(('red', 'green', 'purple')))\n",
    "plt.xlim(X1.min(), X1.max())\n",
    "plt.ylim(X2.min(), X2.max())\n",
    "for i, j in enumerate(np.unique(y_set)):\n",
    "    plt.scatter(X_set[y_set == j, 0], X_set[y_set == j, 1],\n",
    "                c = ListedColormap(('red', 'green', 'purple'))(i), label = j)\n",
    "plt.title('Naive Bayes (Test set)')\n",
    "plt.xlabel('lenght')\n",
    "plt.ylabel('width')\n",
    "plt.legend()\n",
    "plt.show()"
   ]
  },
  {
   "cell_type": "markdown",
   "metadata": {},
   "source": [
    "# Otras pruebas\n",
    "---"
   ]
  },
  {
   "cell_type": "markdown",
   "metadata": {},
   "source": [
    "## Usando Suma de valores petalo y valores sépalo\n",
    "---"
   ]
  },
  {
   "cell_type": "code",
   "execution_count": 85,
   "metadata": {},
   "outputs": [
    {
     "name": "stderr",
     "output_type": "stream",
     "text": [
      "*c* argument looks like a single numeric RGB or RGBA sequence, which should be avoided as value-mapping will have precedence in case its length matches with *x* & *y*.  Please use the *color* keyword-argument or provide a 2-D array with a single row if you intend to specify the same RGB or RGBA value for all points.\n",
      "*c* argument looks like a single numeric RGB or RGBA sequence, which should be avoided as value-mapping will have precedence in case its length matches with *x* & *y*.  Please use the *color* keyword-argument or provide a 2-D array with a single row if you intend to specify the same RGB or RGBA value for all points.\n",
      "*c* argument looks like a single numeric RGB or RGBA sequence, which should be avoided as value-mapping will have precedence in case its length matches with *x* & *y*.  Please use the *color* keyword-argument or provide a 2-D array with a single row if you intend to specify the same RGB or RGBA value for all points.\n"
     ]
    },
    {
     "data": {
      "image/png": "[encoded data removed]",
      "text/plain": [
       "<Figure size 432x288 with 1 Axes>"
      ]
     },
     "metadata": {
      "needs_background": "light"
     },
     "output_type": "display_data"
    },
    {
     "name": "stderr",
     "output_type": "stream",
     "text": [
      "*c* argument looks like a single numeric RGB or RGBA sequence, which should be avoided as value-mapping will have precedence in case its length matches with *x* & *y*.  Please use the *color* keyword-argument or provide a 2-D array with a single row if you intend to specify the same RGB or RGBA value for all points.\n",
      "*c* argument looks like a single numeric RGB or RGBA sequence, which should be avoided as value-mapping will have precedence in case its length matches with *x* & *y*.  Please use the *color* keyword-argument or provide a 2-D array with a single row if you intend to specify the same RGB or RGBA value for all points.\n",
      "*c* argument looks like a single numeric RGB or RGBA sequence, which should be avoided as value-mapping will have precedence in case its length matches with *x* & *y*.  Please use the *color* keyword-argument or provide a 2-D array with a single row if you intend to specify the same RGB or RGBA value for all points.\n"
     ]
    },
    {
     "data": {
      "image/png": "[encoded data removed]",
      "text/plain": [
       "<Figure size 432x288 with 1 Axes>"
      ]
     },
     "metadata": {
      "needs_background": "light"
     },
     "output_type": "display_data"
    }
   ],
   "source": [
    "# Naive Bayes\n",
    "\n",
    "# Importing the libraries\n",
    "import numpy as np\n",
    "import matplotlib.pyplot as plt\n",
    "import pandas as pd\n",
    "\n",
    "# Importing the dataset\n",
    "dataset = pd.read_csv('iris-data-clean.csv')\n",
    "X = dataset.iloc[:, [5, 6]].values\n",
    "y = dataset.iloc[:, 4].values\n",
    "\n",
    "# Splitting the dataset into the Training set and Test set\n",
    "from sklearn.model_selection import train_test_split\n",
    "X_train, X_test, y_train, y_test = train_test_split(X, y, test_size = 0.25, random_state = 0)\n",
    "\n",
    "# Feature Scaling\n",
    "from sklearn.preprocessing import StandardScaler\n",
    "sc = StandardScaler()\n",
    "X_train = sc.fit_transform(X_train)\n",
    "X_test = sc.transform(X_test)\n",
    "\n",
    "# Fitting Naive Bayes to the Training set\n",
    "from sklearn.naive_bayes import GaussianNB\n",
    "classifier = GaussianNB()\n",
    "classifier.fit(X_train, y_train)\n",
    "\n",
    "# Predicting the Test set results\n",
    "y_pred = classifier.predict(X_test)\n",
    "\n",
    "# Making the Confusion Matrix\n",
    "from sklearn.metrics import confusion_matrix\n",
    "cm = confusion_matrix(y_test, y_pred)\n",
    "\n",
    "# Visualising the Training set results\n",
    "from matplotlib.colors import ListedColormap\n",
    "X_set, y_set = X_train, y_train\n",
    "X1, X2 = np.meshgrid(np.arange(start = X_set[:, 0].min() - 1, stop = X_set[:, 0].max() + 1, step = 0.01),\n",
    "                     np.arange(start = X_set[:, 1].min() - 1, stop = X_set[:, 1].max() + 1, step = 0.01))\n",
    "plt.contourf(X1, X2, classifier.predict(np.array([X1.ravel(), X2.ravel()]).T).reshape(X1.shape),\n",
    "             alpha = 0.75, cmap = ListedColormap(('red', 'green', 'blue')))\n",
    "plt.xlim(X1.min(), X1.max())\n",
    "plt.ylim(X2.min(), X2.max())\n",
    "for i, j in enumerate(np.unique(y_set)):\n",
    "    plt.scatter(X_set[y_set == j, 0], X_set[y_set == j, 1],\n",
    "                c = ListedColormap(('red', 'green', 'blue'))(i), label = j)\n",
    "plt.title('Naive Bayes (Training set)')\n",
    "plt.xlabel('Sepal')\n",
    "plt.ylabel('Petal')\n",
    "plt.legend()\n",
    "plt.show()\n",
    "\n",
    "# Visualising the Test set results\n",
    "from matplotlib.colors import ListedColormap\n",
    "X_set, y_set = X_test, y_test\n",
    "X1, X2 = np.meshgrid(np.arange(start = X_set[:, 0].min() - 1, stop = X_set[:, 0].max() + 1, step = 0.01),\n",
    "                     np.arange(start = X_set[:, 1].min() - 1, stop = X_set[:, 1].max() + 1, step = 0.01))\n",
    "plt.contourf(X1, X2, classifier.predict(np.array([X1.ravel(), X2.ravel()]).T).reshape(X1.shape),\n",
    "             alpha = 0.75, cmap = ListedColormap(('red', 'green', 'blue')))\n",
    "plt.xlim(X1.min(), X1.max())\n",
    "plt.ylim(X2.min(), X2.max())\n",
    "for i, j in enumerate(np.unique(y_set)):\n",
    "    plt.scatter(X_set[y_set == j, 0], X_set[y_set == j, 1],\n",
    "                c = ListedColormap(('red', 'green', 'blue'))(i), label = j)\n",
    "plt.title('Naive Bayes (Test set)')\n",
    "plt.xlabel('Sepal')\n",
    "plt.ylabel('Petal')\n",
    "plt.legend()\n",
    "plt.show()"
   ]
  },
  {
   "cell_type": "markdown",
   "metadata": {},
   "source": [
    "\n",
    "## Usando Suma de valores petalo y valores sépalo\n",
    "---"
   ]
  },
  {
   "cell_type": "code",
   "execution_count": 82,
   "metadata": {},
   "outputs": [
    {
     "name": "stderr",
     "output_type": "stream",
     "text": [
      "*c* argument looks like a single numeric RGB or RGBA sequence, which should be avoided as value-mapping will have precedence in case its length matches with *x* & *y*.  Please use the *color* keyword-argument or provide a 2-D array with a single row if you intend to specify the same RGB or RGBA value for all points.\n",
      "*c* argument looks like a single numeric RGB or RGBA sequence, which should be avoided as value-mapping will have precedence in case its length matches with *x* & *y*.  Please use the *color* keyword-argument or provide a 2-D array with a single row if you intend to specify the same RGB or RGBA value for all points.\n",
      "*c* argument looks like a single numeric RGB or RGBA sequence, which should be avoided as value-mapping will have precedence in case its length matches with *x* & *y*.  Please use the *color* keyword-argument or provide a 2-D array with a single row if you intend to specify the same RGB or RGBA value for all points.\n"
     ]
    },
    {
     "data": {
      "image/png": "[encoded data removed]",
      "text/plain": [
       "<Figure size 432x288 with 1 Axes>"
      ]
     },
     "metadata": {
      "needs_background": "light"
     },
     "output_type": "display_data"
    },
    {
     "name": "stderr",
     "output_type": "stream",
     "text": [
      "*c* argument looks like a single numeric RGB or RGBA sequence, which should be avoided as value-mapping will have precedence in case its length matches with *x* & *y*.  Please use the *color* keyword-argument or provide a 2-D array with a single row if you intend to specify the same RGB or RGBA value for all points.\n",
      "*c* argument looks like a single numeric RGB or RGBA sequence, which should be avoided as value-mapping will have precedence in case its length matches with *x* & *y*.  Please use the *color* keyword-argument or provide a 2-D array with a single row if you intend to specify the same RGB or RGBA value for all points.\n",
      "*c* argument looks like a single numeric RGB or RGBA sequence, which should be avoided as value-mapping will have precedence in case its length matches with *x* & *y*.  Please use the *color* keyword-argument or provide a 2-D array with a single row if you intend to specify the same RGB or RGBA value for all points.\n"
     ]
    },
    {
     "data": {
      "image/png": "[encoded data removed]",
      "text/plain": [
       "<Figure size 432x288 with 1 Axes>"
      ]
     },
     "metadata": {
      "needs_background": "light"
     },
     "output_type": "display_data"
    }
   ],
   "source": [
    "# Naive Bayes\n",
    "\n",
    "# Importing the libraries\n",
    "import numpy as np\n",
    "import matplotlib.pyplot as plt\n",
    "import pandas as pd\n",
    "\n",
    "# Importing the dataset\n",
    "dataset = pd.read_csv('iris-data-clean.csv')\n",
    "X = dataset.iloc[:, [0, 1]].values\n",
    "y = dataset.iloc[:, 4].values\n",
    "\n",
    "# Splitting the dataset into the Training set and Test set\n",
    "from sklearn.model_selection import train_test_split\n",
    "X_train, X_test, y_train, y_test = train_test_split(X, y, test_size = 0.25, random_state = 0)\n",
    "\n",
    "# Feature Scaling\n",
    "from sklearn.preprocessing import StandardScaler\n",
    "sc = StandardScaler()\n",
    "X_train = sc.fit_transform(X_train)\n",
    "X_test = sc.transform(X_test)\n",
    "\n",
    "# Fitting Naive Bayes to the Training set\n",
    "from sklearn.naive_bayes import GaussianNB\n",
    "classifier = GaussianNB()\n",
    "classifier.fit(X_train, y_train)\n",
    "\n",
    "# Predicting the Test set results\n",
    "y_pred = classifier.predict(X_test)\n",
    "\n",
    "# Making the Confusion Matrix\n",
    "from sklearn.metrics import confusion_matrix\n",
    "cm = confusion_matrix(y_test, y_pred)\n",
    "\n",
    "# Visualising the Training set results\n",
    "from matplotlib.colors import ListedColormap\n",
    "X_set, y_set = X_train, y_train\n",
    "X1, X2 = np.meshgrid(np.arange(start = X_set[:, 0].min() - 1, stop = X_set[:, 0].max() + 1, step = 0.01),\n",
    "                     np.arange(start = X_set[:, 1].min() - 1, stop = X_set[:, 1].max() + 1, step = 0.01))\n",
    "plt.contourf(X1, X2, classifier.predict(np.array([X1.ravel(), X2.ravel()]).T).reshape(X1.shape),\n",
    "             alpha = 0.75, cmap = ListedColormap(('red', 'green', 'blue')))\n",
    "plt.xlim(X1.min(), X1.max())\n",
    "plt.ylim(X2.min(), X2.max())\n",
    "for i, j in enumerate(np.unique(y_set)):\n",
    "    plt.scatter(X_set[y_set == j, 0], X_set[y_set == j, 1],\n",
    "                c = ListedColormap(('red', 'green', 'blue'))(i), label = j)\n",
    "plt.title('Naive Bayes (Training set)')\n",
    "plt.xlabel('Age')\n",
    "plt.ylabel('Estimated Salary')\n",
    "plt.legend()\n",
    "plt.show()\n",
    "\n",
    "# Visualising the Test set results\n",
    "from matplotlib.colors import ListedColormap\n",
    "X_set, y_set = X_test, y_test\n",
    "X1, X2 = np.meshgrid(np.arange(start = X_set[:, 0].min() - 1, stop = X_set[:, 0].max() + 1, step = 0.01),\n",
    "                     np.arange(start = X_set[:, 1].min() - 1, stop = X_set[:, 1].max() + 1, step = 0.01))\n",
    "plt.contourf(X1, X2, classifier.predict(np.array([X1.ravel(), X2.ravel()]).T).reshape(X1.shape),\n",
    "             alpha = 0.75, cmap = ListedColormap(('red', 'green', 'blue')))\n",
    "plt.xlim(X1.min(), X1.max())\n",
    "plt.ylim(X2.min(), X2.max())\n",
    "for i, j in enumerate(np.unique(y_set)):\n",
    "    plt.scatter(X_set[y_set == j, 0], X_set[y_set == j, 1],\n",
    "                c = ListedColormap(('red', 'green', 'blue'))(i), label = j)\n",
    "plt.title('Naive Bayes (Test set)')\n",
    "plt.xlabel('Age')\n",
    "plt.ylabel('Estimated Salary')\n",
    "plt.legend()\n",
    "plt.show()"
   ]
  },
  {
   "cell_type": "markdown",
   "metadata": {},
   "source": [
    "\n",
    "## Usando Suma de valores petalo y valores sépalo, utilizando scaling\n",
    "---"
   ]
  },
  {
   "cell_type": "code",
   "execution_count": null,
   "metadata": {},
   "outputs": [],
   "source": []
  },
  {
   "cell_type": "code",
   "execution_count": 83,
   "metadata": {},
   "outputs": [
    {
     "name": "stdout",
     "output_type": "stream",
     "text": [
      "[[ 0.08883348 -2.6843074 ]\n",
      " [-1.32858462 -2.6843074 ]\n",
      " [-1.1129988  -2.74135871]\n",
      " [-1.47177844 -2.62725609]\n",
      " [ 0.19662639 -2.6843074 ]\n",
      " [ 1.39845867 -2.24986704]\n",
      " [-0.77191962 -2.55266418]\n",
      " [-0.26994616 -2.56143448]\n",
      " [-2.18933772 -2.61848579]\n",
      " [-1.09529835 -2.56143448]\n",
      " [ 0.93188612 -2.56143448]\n",
      " [-0.52093289 -2.50438317]\n",
      " [-1.45407799 -2.81595062]\n",
      " [-0.32463771 -2.98710454]\n",
      " [ 2.1337184  -2.79841002]\n",
      " [ 2.94137013 -2.36396966]\n",
      " [ 1.39845867 -2.47807228]\n",
      " [ 0.08883348 -2.55266418]\n",
      " [ 1.54165249 -2.38151026]\n",
      " [ 0.7886923  -2.49561287]\n",
      " [ 0.2320273  -2.51315347]\n",
      " [ 0.55540603 -2.36396966]\n",
      " [-0.30534707 -2.91251264]\n",
      " [-0.37773907 -2.11822382]\n",
      " [-0.52093289 -2.39905085]\n",
      " [-1.20309126 -2.57020478]\n",
      " [-0.26994616 -2.30691835]\n",
      " [ 0.21432684 -2.62725609]\n",
      " [-0.01895943 -2.6843074 ]\n",
      " [-1.1129988  -2.57020478]\n",
      " [-1.22079171 -2.57020478]\n",
      " [ 0.2320273  -2.36396966]\n",
      " [ 1.61404449 -2.75889931]\n",
      " [ 2.22381085 -2.6843074 ]\n",
      " [-1.09529835 -2.75889931]\n",
      " [-0.73651871 -2.79841002]\n",
      " [ 0.59080693 -2.74135871]\n",
      " [-1.09529835 -2.75889931]\n",
      " [-1.95605144 -2.74135871]\n",
      " [-0.1444528  -2.62725609]\n",
      " [-0.03665989 -2.60971549]\n",
      " [-1.48947889 -2.74135871]\n",
      " [-0.03665989 -2.04363192]\n",
      " [ 0.7886923  -2.13576442]\n",
      " [-1.45407799 -2.55266418]\n",
      " [ 0.7886923  -2.57020478]\n",
      " [-1.23849217 -2.6843074 ]\n",
      " [ 0.80639275 -2.62725609]\n",
      " [-0.50323244 -2.6843074 ]\n",
      " [ 1.77334858  0.7781044 ]\n",
      " [ 1.02038839  0.795645  ]\n",
      " [ 1.41456894  1.02385024]\n",
      " [-2.20862836  0.24710202]\n",
      " [ 0.21273666  0.85269631]\n",
      " [-0.79121026  0.53235857]\n",
      " [ 1.1281813   1.04139084]\n",
      " [-2.72830227 -0.54718679]\n",
      " [ 0.5715163   0.58940988]\n",
      " [-1.65196335  0.32169393]\n",
      " [-3.535954   -0.43308417]\n",
      " [-0.07365098  0.62449107]\n",
      " [-1.81444781 -0.14782763]\n",
      " [-0.05595053  0.7781044 ]\n",
      " [-0.68341735  0.01889678]\n",
      " [ 1.16358221  0.60695048]\n",
      " [-0.45013107  0.795645  ]\n",
      " [-0.89900317 -0.09077632]\n",
      " [-1.56346108  0.795645  ]\n",
      " [-1.61656244 -0.07323572]\n",
      " [ 0.39292157  1.36172858]\n",
      " [-0.2892368   0.24710202]\n",
      " [-0.73810889  1.02385024]\n",
      " [-0.2892368   0.51481797]\n",
      " [ 0.32052957  0.41825595]\n",
      " [ 0.80480257  0.60695048]\n",
      " [ 0.58921675  0.83515571]\n",
      " [ 0.93029593  1.34418798]\n",
      " [-0.18144389  0.795645  ]\n",
      " [-1.25778281 -0.43308417]\n",
      " [-1.97534208 -0.13028703]\n",
      " [-1.97534208 -0.31898155]\n",
      " [-0.89900317  0.0584075 ]\n",
      " [-0.41473016  1.26959607]\n",
      " [-0.7011178   0.795645  ]\n",
      " [ 0.98498748  0.92728822]\n",
      " [ 1.16358221  0.90974762]\n",
      " [-1.20468144  0.47530726]\n",
      " [-0.45013107  0.30415333]\n",
      " [-1.74205581  0.24710202]\n",
      " [-1.50876953  0.34366404]\n",
      " [ 0.17733575  0.72105309]\n",
      " [-1.13228944  0.11545881]\n",
      " [-2.83609518 -0.54718679]\n",
      " [-1.1499899   0.36120464]\n",
      " [-0.32463771  0.22956143]\n",
      " [-0.55792398  0.36120464]\n",
      " [ 0.06954284  0.41825595]\n",
      " [-2.24402927 -0.58669751]\n",
      " [-0.79121026  0.30415333]\n",
      " [ 1.1281813   2.9678468 ]\n",
      " [-0.89900317  1.66452572]\n",
      " [ 1.43226939  2.38422263]\n",
      " [ 0.1950362   1.81813905]\n",
      " [ 0.67930921  2.45881453]\n",
      " [ 2.05973621  2.7835818 ]\n",
      " [-2.49501599  1.05893143]\n",
      " [ 1.44996984  2.21749822]\n",
      " [-0.23613544  1.93224167]\n",
      " [ 2.9574804   3.02489811]\n",
      " [ 1.14588175  1.79616894]\n",
      " [-0.14604298  1.77862834]\n",
      " [ 1.0557893   2.15601739]\n",
      " [-1.49106908  1.73911763]\n",
      " [-0.66571689  2.3227418 ]\n",
      " [ 1.02038839  2.3052012 ]\n",
      " [ 0.67930921  1.76108774]\n",
      " [ 4.05151977  2.97227632]\n",
      " [ 1.25208448  3.21802216]\n",
      " [-1.81444781  1.08090155]\n",
      " [ 1.64785521  2.53340644]\n",
      " [-0.91670362  1.68206632]\n",
      " [-0.91670362  2.70898989]\n",
      " [-0.27153635  1.41877989]\n",
      " [ 1.63015476  2.27012001]\n",
      " [ 2.0243353   2.04634429]\n",
      " [-0.16374344  1.36172858]\n",
      " [ 0.17733575  1.41877989]\n",
      " [ 0.08724329  2.2130687 ]\n",
      " [ 1.55776276  1.66895524]\n",
      " [ 1.34217693  2.23503882]\n",
      " [ 4.3025065   2.53783596]\n",
      " [ 0.08724329  2.34471192]\n",
      " [-0.03825007  1.13795286]\n",
      " [-0.75580935  1.29156619]\n",
      " [ 2.18522958  2.76161168]\n",
      " [ 1.36146757  2.60799835]\n",
      " [ 0.78710212  1.76108774]\n",
      " [ 0.05184238  1.36172858]\n",
      " [ 1.41456894  2.09896608]\n",
      " [ 1.16358221  2.60799835]\n",
      " [ 1.41456894  2.19109858]\n",
      " [-0.89900317  1.66452572]\n",
      " [ 1.52236185  2.64750906]\n",
      " [ 1.63015476  2.79669287]\n",
      " [ 0.93029593  2.24814989]\n",
      " [-0.73810889  2.13404727]\n",
      " [ 0.67930921  1.85322025]\n",
      " [ 1.23597421  2.36225251]\n",
      " [-0.07365098  1.53288251]]\n"
     ]
    }
   ],
   "source": [
    "# Naive Bayes\n",
    "\n",
    "# Importing the libraries\n",
    "import numpy as np\n",
    "import matplotlib.pyplot as plt\n",
    "import pandas as pd\n",
    "\n",
    "# Importing the dataset\n",
    "dataset = pd.read_csv('iris-data-clean.csv')\n",
    "X_raw = dataset.iloc[:, [0,1,2,3]].values\n",
    "y = dataset.iloc[:, 4].values\n",
    "\n",
    "from sklearn.preprocessing import StandardScaler\n",
    "sc = StandardScaler()\n",
    "x_premath = sc.fit_transform(X_raw)\n",
    "\n",
    "df = pd.DataFrame(x_premath, columns=['a', 'b', 'c', 'd'])\n",
    "df[\"e\"] = df[\"a\"]+df[\"b\"]\n",
    "df[\"f\"] = df[\"c\"]+df[\"d\"]\n",
    "X = df.iloc[:, [4,5]].values\n",
    "print (X)"
   ]
  },
  {
   "cell_type": "code",
   "execution_count": 84,
   "metadata": {
    "scrolled": false
   },
   "outputs": [
    {
     "name": "stderr",
     "output_type": "stream",
     "text": [
      "*c* argument looks like a single numeric RGB or RGBA sequence, which should be avoided as value-mapping will have precedence in case its length matches with *x* & *y*.  Please use the *color* keyword-argument or provide a 2-D array with a single row if you intend to specify the same RGB or RGBA value for all points.\n",
      "*c* argument looks like a single numeric RGB or RGBA sequence, which should be avoided as value-mapping will have precedence in case its length matches with *x* & *y*.  Please use the *color* keyword-argument or provide a 2-D array with a single row if you intend to specify the same RGB or RGBA value for all points.\n",
      "*c* argument looks like a single numeric RGB or RGBA sequence, which should be avoided as value-mapping will have precedence in case its length matches with *x* & *y*.  Please use the *color* keyword-argument or provide a 2-D array with a single row if you intend to specify the same RGB or RGBA value for all points.\n"
     ]
    },
    {
     "data": {
      "image/png": "[encoded data removed]",
      "text/plain": [
       "<Figure size 432x288 with 1 Axes>"
      ]
     },
     "metadata": {
      "needs_background": "light"
     },
     "output_type": "display_data"
    },
    {
     "name": "stderr",
     "output_type": "stream",
     "text": [
      "*c* argument looks like a single numeric RGB or RGBA sequence, which should be avoided as value-mapping will have precedence in case its length matches with *x* & *y*.  Please use the *color* keyword-argument or provide a 2-D array with a single row if you intend to specify the same RGB or RGBA value for all points.\n",
      "*c* argument looks like a single numeric RGB or RGBA sequence, which should be avoided as value-mapping will have precedence in case its length matches with *x* & *y*.  Please use the *color* keyword-argument or provide a 2-D array with a single row if you intend to specify the same RGB or RGBA value for all points.\n",
      "*c* argument looks like a single numeric RGB or RGBA sequence, which should be avoided as value-mapping will have precedence in case its length matches with *x* & *y*.  Please use the *color* keyword-argument or provide a 2-D array with a single row if you intend to specify the same RGB or RGBA value for all points.\n"
     ]
    },
    {
     "data": {
      "image/png": "[encoded data removed]",
      "text/plain": [
       "<Figure size 432x288 with 1 Axes>"
      ]
     },
     "metadata": {
      "needs_background": "light"
     },
     "output_type": "display_data"
    }
   ],
   "source": [
    "# Splitting the dataset into the Training set and Test set\n",
    "from sklearn.model_selection import train_test_split\n",
    "X_train, X_test, y_train, y_test = train_test_split(X, y, test_size = 0.25, random_state = 0)\n",
    "\n",
    "# Feature Scaling general\n",
    "\n",
    "X_train = sc.fit_transform(X_train)\n",
    "X_test = sc.transform(X_test)\n",
    "\n",
    "# Fitting Naive Bayes to the Training set\n",
    "from sklearn.naive_bayes import GaussianNB\n",
    "classifier = GaussianNB()\n",
    "classifier.fit(X_train, y_train)\n",
    "\n",
    "# Predicting the Test set results\n",
    "y_pred = classifier.predict(X_test)\n",
    "\n",
    "# Making the Confusion Matrix\n",
    "from sklearn.metrics import confusion_matrix\n",
    "cm = confusion_matrix(y_test, y_pred)\n",
    "\n",
    "# Visualising the Training set results\n",
    "from matplotlib.colors import ListedColormap\n",
    "X_set, y_set = X_train, y_train\n",
    "X1, X2 = np.meshgrid(np.arange(start = X_set[:, 0].min() - 1, stop = X_set[:, 0].max() + 1, step = 0.01),\n",
    "                     np.arange(start = X_set[:, 1].min() - 1, stop = X_set[:, 1].max() + 1, step = 0.01))\n",
    "plt.contourf(X1, X2, classifier.predict(np.array([X1.ravel(), X2.ravel()]).T).reshape(X1.shape),\n",
    "             alpha = 0.75, cmap = ListedColormap(('red', 'green', 'blue')))\n",
    "plt.xlim(X1.min(), X1.max())\n",
    "plt.ylim(X2.min(), X2.max())\n",
    "for i, j in enumerate(np.unique(y_set)):\n",
    "    plt.scatter(X_set[y_set == j, 0], X_set[y_set == j, 1],\n",
    "                c = ListedColormap(('red', 'green', 'blue'))(i), label = j)\n",
    "plt.title('Naive Bayes (Training set)')\n",
    "plt.xlabel('Sepal')\n",
    "plt.ylabel('Petal')\n",
    "plt.legend()\n",
    "plt.show()\n",
    "\n",
    "# Visualising the Test set results\n",
    "from matplotlib.colors import ListedColormap\n",
    "X_set, y_set = X_test, y_test\n",
    "X1, X2 = np.meshgrid(np.arange(start = X_set[:, 0].min() - 1, stop = X_set[:, 0].max() + 1, step = 0.01),\n",
    "                     np.arange(start = X_set[:, 1].min() - 1, stop = X_set[:, 1].max() + 1, step = 0.01))\n",
    "plt.contourf(X1, X2, classifier.predict(np.array([X1.ravel(), X2.ravel()]).T).reshape(X1.shape),\n",
    "             alpha = 0.75, cmap = ListedColormap(('red', 'green', 'blue')))\n",
    "plt.xlim(X1.min(), X1.max())\n",
    "plt.ylim(X2.min(), X2.max())\n",
    "for i, j in enumerate(np.unique(y_set)):\n",
    "    plt.scatter(X_set[y_set == j, 0], X_set[y_set == j, 1],\n",
    "                c = ListedColormap(('red', 'green', 'blue'))(i), label = j)\n",
    "plt.title('Naive Bayes (Test set)')\n",
    "plt.xlabel('Sepal')\n",
    "plt.ylabel('Petal')\n",
    "plt.legend()\n",
    "plt.show()\n",
    "sc = StandardScaler()\n",
    "X_train = sc.fit_transform(X_train)\n",
    "X_test = sc.transform(X_test)"
   ]
  },
  {
   "cell_type": "markdown",
   "metadata": {},
   "source": [
    "# Conclusiones\n",
    "---"
   ]
  },
  {
   "cell_type": "code",
   "execution_count": null,
   "metadata": {},
   "outputs": [],
   "source": [
    "El petalo es la mayor diferencia. Tanto la suma usando el sepalo y petalo, y usando solo el petalo, obtienen resultados parecidos"
   ]
  }
 ],
 "metadata": {
  "kernelspec": {
   "display_name": "Python 3",
   "language": "python",
   "name": "python3"
  },
  "language_info": {
   "codemirror_mode": {
    "name": "ipython",
    "version": 3
   },
   "file_extension": ".py",
   "mimetype": "text/x-python",
   "name": "python",
   "nbconvert_exporter": "python",
   "pygments_lexer": "ipython3",
   "version": "3.8.5"
  }
 },
 "nbformat": 4,
 "nbformat_minor": 4
}
