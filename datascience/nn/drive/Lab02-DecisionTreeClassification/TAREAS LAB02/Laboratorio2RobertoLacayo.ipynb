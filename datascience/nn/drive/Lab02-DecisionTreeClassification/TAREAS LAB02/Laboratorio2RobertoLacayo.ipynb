{
  "nbformat": 4,
  "nbformat_minor": 0,
  "metadata": {
    "colab": {
      "name": "Laboratorio2Iris.ipynb",
      "provenance": []
    },
    "kernelspec": {
      "name": "python3",
      "display_name": "Python 3"
    }
  },
  "cells": [
    {
      "cell_type": "markdown",
      "metadata": {
        "id": "x6NMJTCxCpw6"
      },
      "source": [
        "# *Paquetes a utilizar*"
      ]
    },
    {
      "cell_type": "code",
      "metadata": {
        "id": "DHcx-nuD_YbM"
      },
      "source": [
        "import numpy as np\r\n",
        "import matplotlib.pyplot as plt\r\n",
        "import pandas as pd"
      ],
      "execution_count": 2,
      "outputs": []
    },
    {
      "cell_type": "code",
      "metadata": {
        "colab": {
          "base_uri": "https://localhost:8080/",
          "height": 194
        },
        "id": "_IAAxcFxA-am",
        "outputId": "e9d97679-a5b3-406c-a536-b4f72c88d5c6"
      },
      "source": [
        "IrisData = pd.read_csv('https://raw.githubusercontent.com/rhiever/Data-Analysis-and-Machine-Learning-Projects/master/example-data-science-notebook/iris-data.csv', na_values=['NA'])\r\n",
        "IrisData.head()"
      ],
      "execution_count": 3,
      "outputs": [
        {
          "output_type": "execute_result",
          "data": {
            "text/html": [
              "<div>\n",
              "<style scoped>\n",
              "    .dataframe tbody tr th:only-of-type {\n",
              "        vertical-align: middle;\n",
              "    }\n",
              "\n",
              "    .dataframe tbody tr th {\n",
              "        vertical-align: top;\n",
              "    }\n",
              "\n",
              "    .dataframe thead th {\n",
              "        text-align: right;\n",
              "    }\n",
              "</style>\n",
              "<table border=\"1\" class=\"dataframe\">\n",
              "  <thead>\n",
              "    <tr style=\"text-align: right;\">\n",
              "      <th></th>\n",
              "      <th>sepal_length_cm</th>\n",
              "      <th>sepal_width_cm</th>\n",
              "      <th>petal_length_cm</th>\n",
              "      <th>petal_width_cm</th>\n",
              "      <th>class</th>\n",
              "    </tr>\n",
              "  </thead>\n",
              "  <tbody>\n",
              "    <tr>\n",
              "      <th>0</th>\n",
              "      <td>5.1</td>\n",
              "      <td>3.5</td>\n",
              "      <td>1.4</td>\n",
              "      <td>0.2</td>\n",
              "      <td>Iris-setosa</td>\n",
              "    </tr>\n",
              "    <tr>\n",
              "      <th>1</th>\n",
              "      <td>4.9</td>\n",
              "      <td>3.0</td>\n",
              "      <td>1.4</td>\n",
              "      <td>0.2</td>\n",
              "      <td>Iris-setosa</td>\n",
              "    </tr>\n",
              "    <tr>\n",
              "      <th>2</th>\n",
              "      <td>4.7</td>\n",
              "      <td>3.2</td>\n",
              "      <td>1.3</td>\n",
              "      <td>0.2</td>\n",
              "      <td>Iris-setosa</td>\n",
              "    </tr>\n",
              "    <tr>\n",
              "      <th>3</th>\n",
              "      <td>4.6</td>\n",
              "      <td>3.1</td>\n",
              "      <td>1.5</td>\n",
              "      <td>0.2</td>\n",
              "      <td>Iris-setosa</td>\n",
              "    </tr>\n",
              "    <tr>\n",
              "      <th>4</th>\n",
              "      <td>5.0</td>\n",
              "      <td>3.6</td>\n",
              "      <td>1.4</td>\n",
              "      <td>0.2</td>\n",
              "      <td>Iris-setosa</td>\n",
              "    </tr>\n",
              "  </tbody>\n",
              "</table>\n",
              "</div>"
            ],
            "text/plain": [
              "   sepal_length_cm  sepal_width_cm  ...  petal_width_cm        class\n",
              "0              5.1             3.5  ...             0.2  Iris-setosa\n",
              "1              4.9             3.0  ...             0.2  Iris-setosa\n",
              "2              4.7             3.2  ...             0.2  Iris-setosa\n",
              "3              4.6             3.1  ...             0.2  Iris-setosa\n",
              "4              5.0             3.6  ...             0.2  Iris-setosa\n",
              "\n",
              "[5 rows x 5 columns]"
            ]
          },
          "metadata": {
            "tags": []
          },
          "execution_count": 3
        }
      ]
    },
    {
      "cell_type": "markdown",
      "metadata": {
        "id": "LaMEPI29DV7e"
      },
      "source": [
        "# Limpiando IrisData"
      ]
    },
    {
      "cell_type": "code",
      "metadata": {
        "colab": {
          "base_uri": "https://localhost:8080/"
        },
        "id": "CO2dA0R4CoHN",
        "outputId": "022719ee-0e04-4423-e44f-d9fcb25fb6b5"
      },
      "source": [
        "IrisData.loc[IrisData['class'] == 'versicolor', 'class'] = 'Iris-versicolor'\r\n",
        "IrisData.loc[IrisData['class'] == 'Iris-setossa', 'class'] = 'Iris-setosa'\r\n",
        "IrisData['class'].unique()"
      ],
      "execution_count": 5,
      "outputs": [
        {
          "output_type": "execute_result",
          "data": {
            "text/plain": [
              "array(['Iris-setosa', 'Iris-versicolor', 'Iris-virginica'], dtype=object)"
            ]
          },
          "metadata": {
            "tags": []
          },
          "execution_count": 5
        }
      ]
    },
    {
      "cell_type": "code",
      "metadata": {
        "id": "PaJl2u0EFo_M"
      },
      "source": [
        "IrisData.loc[(IrisData['class'] == 'Iris-versicolor') &\r\n",
        "              (IrisData['sepal_length_cm'] < 1.0),\r\n",
        "              'sepal_length_cm'] *= 100.0"
      ],
      "execution_count": 6,
      "outputs": []
    },
    {
      "cell_type": "markdown",
      "metadata": {
        "id": "5YBe4dhQGu3U"
      },
      "source": [
        "imputando la media de petal width en los NAs"
      ]
    },
    {
      "cell_type": "code",
      "metadata": {
        "colab": {
          "base_uri": "https://localhost:8080/",
          "height": 194
        },
        "id": "Ig7MM-C7GLrt",
        "outputId": "5f45f161-1207-42e5-d39a-95be7f0a97d1"
      },
      "source": [
        "mean_petal_width = IrisData.loc[IrisData['class'] == 'Iris-setosa', 'petal_width_cm'].mean()\r\n",
        "\r\n",
        "IrisData.loc[(IrisData['class'] == 'Iris-setosa') &\r\n",
        "              (IrisData['petal_width_cm'].isnull()),\r\n",
        "              'petal_width_cm'] = mean_petal_width\r\n",
        "\r\n",
        "IrisData.loc[(IrisData['class'] == 'Iris-setosa') &\r\n",
        "              (IrisData['petal_width_cm'] == mean_petal_width)]"
      ],
      "execution_count": 7,
      "outputs": [
        {
          "output_type": "execute_result",
          "data": {
            "text/html": [
              "<div>\n",
              "<style scoped>\n",
              "    .dataframe tbody tr th:only-of-type {\n",
              "        vertical-align: middle;\n",
              "    }\n",
              "\n",
              "    .dataframe tbody tr th {\n",
              "        vertical-align: top;\n",
              "    }\n",
              "\n",
              "    .dataframe thead th {\n",
              "        text-align: right;\n",
              "    }\n",
              "</style>\n",
              "<table border=\"1\" class=\"dataframe\">\n",
              "  <thead>\n",
              "    <tr style=\"text-align: right;\">\n",
              "      <th></th>\n",
              "      <th>sepal_length_cm</th>\n",
              "      <th>sepal_width_cm</th>\n",
              "      <th>petal_length_cm</th>\n",
              "      <th>petal_width_cm</th>\n",
              "      <th>class</th>\n",
              "    </tr>\n",
              "  </thead>\n",
              "  <tbody>\n",
              "    <tr>\n",
              "      <th>7</th>\n",
              "      <td>5.0</td>\n",
              "      <td>3.4</td>\n",
              "      <td>1.5</td>\n",
              "      <td>0.251111</td>\n",
              "      <td>Iris-setosa</td>\n",
              "    </tr>\n",
              "    <tr>\n",
              "      <th>8</th>\n",
              "      <td>4.4</td>\n",
              "      <td>2.9</td>\n",
              "      <td>1.4</td>\n",
              "      <td>0.251111</td>\n",
              "      <td>Iris-setosa</td>\n",
              "    </tr>\n",
              "    <tr>\n",
              "      <th>9</th>\n",
              "      <td>4.9</td>\n",
              "      <td>3.1</td>\n",
              "      <td>1.5</td>\n",
              "      <td>0.251111</td>\n",
              "      <td>Iris-setosa</td>\n",
              "    </tr>\n",
              "    <tr>\n",
              "      <th>10</th>\n",
              "      <td>5.4</td>\n",
              "      <td>3.7</td>\n",
              "      <td>1.5</td>\n",
              "      <td>0.251111</td>\n",
              "      <td>Iris-setosa</td>\n",
              "    </tr>\n",
              "    <tr>\n",
              "      <th>11</th>\n",
              "      <td>4.8</td>\n",
              "      <td>3.4</td>\n",
              "      <td>1.6</td>\n",
              "      <td>0.251111</td>\n",
              "      <td>Iris-setosa</td>\n",
              "    </tr>\n",
              "  </tbody>\n",
              "</table>\n",
              "</div>"
            ],
            "text/plain": [
              "    sepal_length_cm  sepal_width_cm  ...  petal_width_cm        class\n",
              "7               5.0             3.4  ...        0.251111  Iris-setosa\n",
              "8               4.4             2.9  ...        0.251111  Iris-setosa\n",
              "9               4.9             3.1  ...        0.251111  Iris-setosa\n",
              "10              5.4             3.7  ...        0.251111  Iris-setosa\n",
              "11              4.8             3.4  ...        0.251111  Iris-setosa\n",
              "\n",
              "[5 rows x 5 columns]"
            ]
          },
          "metadata": {
            "tags": []
          },
          "execution_count": 7
        }
      ]
    },
    {
      "cell_type": "markdown",
      "metadata": {
        "id": "xcKw2z6SH6XE"
      },
      "source": [
        "# *Decision Tree*"
      ]
    },
    {
      "cell_type": "markdown",
      "metadata": {
        "id": "5tffLA1FHyQS"
      },
      "source": [
        "Splitting IrisData and training set and test set"
      ]
    },
    {
      "cell_type": "code",
      "metadata": {
        "id": "relzDUb-HZ_L"
      },
      "source": [
        "X = IrisData.iloc[:, 0:4].values\r\n",
        "y = IrisData.iloc[:, 4].values\r\n",
        "from sklearn.model_selection import train_test_split\r\n",
        "X_train, X_test, y_train, y_test = train_test_split(X, y, test_size = 0.25, random_state = 0)"
      ],
      "execution_count": 8,
      "outputs": []
    },
    {
      "cell_type": "markdown",
      "metadata": {
        "id": "Q3kJwRsHKwzU"
      },
      "source": [
        "Fitting Decision Tree Classification to the Training set"
      ]
    },
    {
      "cell_type": "code",
      "metadata": {
        "colab": {
          "base_uri": "https://localhost:8080/"
        },
        "id": "XtVa4ND8Kfs4",
        "outputId": "b046d61d-36a3-4ce7-a139-a27e6093c759"
      },
      "source": [
        "from sklearn.tree import DecisionTreeClassifier\r\n",
        "classifier = DecisionTreeClassifier(criterion = 'entropy', random_state = 0)\r\n",
        "classifier.fit(X_train, y_train)"
      ],
      "execution_count": 9,
      "outputs": [
        {
          "output_type": "execute_result",
          "data": {
            "text/plain": [
              "DecisionTreeClassifier(ccp_alpha=0.0, class_weight=None, criterion='entropy',\n",
              "                       max_depth=None, max_features=None, max_leaf_nodes=None,\n",
              "                       min_impurity_decrease=0.0, min_impurity_split=None,\n",
              "                       min_samples_leaf=1, min_samples_split=2,\n",
              "                       min_weight_fraction_leaf=0.0, presort='deprecated',\n",
              "                       random_state=0, splitter='best')"
            ]
          },
          "metadata": {
            "tags": []
          },
          "execution_count": 9
        }
      ]
    },
    {
      "cell_type": "markdown",
      "metadata": {
        "id": "BFys4FuUL9R-"
      },
      "source": [
        "Predicting the Test set results"
      ]
    },
    {
      "cell_type": "code",
      "metadata": {
        "colab": {
          "base_uri": "https://localhost:8080/"
        },
        "id": "C1Bsj2JmLylt",
        "outputId": "1ab8dc68-6ef6-482b-ebca-c3afae08d289"
      },
      "source": [
        "y_pred = classifier.predict(X_test)\r\n",
        "print(y_pred)"
      ],
      "execution_count": 10,
      "outputs": [
        {
          "output_type": "stream",
          "text": [
            "['Iris-virginica' 'Iris-versicolor' 'Iris-setosa' 'Iris-virginica'\n",
            " 'Iris-setosa' 'Iris-virginica' 'Iris-setosa' 'Iris-versicolor'\n",
            " 'Iris-versicolor' 'Iris-versicolor' 'Iris-virginica' 'Iris-versicolor'\n",
            " 'Iris-versicolor' 'Iris-versicolor' 'Iris-versicolor' 'Iris-setosa'\n",
            " 'Iris-versicolor' 'Iris-versicolor' 'Iris-setosa' 'Iris-setosa'\n",
            " 'Iris-virginica' 'Iris-versicolor' 'Iris-setosa' 'Iris-setosa'\n",
            " 'Iris-virginica' 'Iris-setosa' 'Iris-setosa' 'Iris-versicolor'\n",
            " 'Iris-versicolor' 'Iris-setosa' 'Iris-virginica' 'Iris-versicolor'\n",
            " 'Iris-setosa' 'Iris-virginica' 'Iris-virginica' 'Iris-versicolor'\n",
            " 'Iris-setosa' 'Iris-virginica']\n"
          ],
          "name": "stdout"
        }
      ]
    },
    {
      "cell_type": "code",
      "metadata": {
        "colab": {
          "base_uri": "https://localhost:8080/"
        },
        "id": "Bi6q17QbMO9Y",
        "outputId": "a18d3956-7980-482b-897a-c81e097a514d"
      },
      "source": [
        "print(y_test)"
      ],
      "execution_count": 11,
      "outputs": [
        {
          "output_type": "stream",
          "text": [
            "['Iris-virginica' 'Iris-versicolor' 'Iris-setosa' 'Iris-virginica'\n",
            " 'Iris-setosa' 'Iris-virginica' 'Iris-setosa' 'Iris-versicolor'\n",
            " 'Iris-versicolor' 'Iris-versicolor' 'Iris-virginica' 'Iris-versicolor'\n",
            " 'Iris-versicolor' 'Iris-versicolor' 'Iris-versicolor' 'Iris-setosa'\n",
            " 'Iris-versicolor' 'Iris-versicolor' 'Iris-setosa' 'Iris-setosa'\n",
            " 'Iris-virginica' 'Iris-versicolor' 'Iris-setosa' 'Iris-setosa'\n",
            " 'Iris-virginica' 'Iris-setosa' 'Iris-setosa' 'Iris-versicolor'\n",
            " 'Iris-versicolor' 'Iris-setosa' 'Iris-virginica' 'Iris-versicolor'\n",
            " 'Iris-setosa' 'Iris-virginica' 'Iris-virginica' 'Iris-versicolor'\n",
            " 'Iris-setosa' 'Iris-versicolor']\n"
          ],
          "name": "stdout"
        }
      ]
    },
    {
      "cell_type": "markdown",
      "metadata": {
        "id": "_aIoOsLKM04L"
      },
      "source": [
        "Making the Confusion Matrix"
      ]
    },
    {
      "cell_type": "code",
      "metadata": {
        "colab": {
          "base_uri": "https://localhost:8080/"
        },
        "id": "rRqUZgRRM2Qz",
        "outputId": "406d3be0-385a-4207-eb51-4fb48e6c8122"
      },
      "source": [
        "from sklearn.metrics import confusion_matrix\r\n",
        "cm = confusion_matrix(y_test, y_pred)\r\n",
        "print(cm)"
      ],
      "execution_count": 12,
      "outputs": [
        {
          "output_type": "stream",
          "text": [
            "[[13  0  0]\n",
            " [ 0 15  1]\n",
            " [ 0  0  9]]\n"
          ],
          "name": "stdout"
        }
      ]
    },
    {
      "cell_type": "markdown",
      "metadata": {
        "id": "MTPbKdfWP4nd"
      },
      "source": [
        "Podemos ver que solo hay 1 error que se predijo que sería virginica y en realidad es versicolor"
      ]
    },
    {
      "cell_type": "markdown",
      "metadata": {
        "id": "s-l2UYxqNAyl"
      },
      "source": [
        "# *Visualising the Training set results*\r\n"
      ]
    },
    {
      "cell_type": "code",
      "metadata": {
        "colab": {
          "base_uri": "https://localhost:8080/",
          "height": 776
        },
        "id": "LjwGOyK7X3lC",
        "outputId": "a8635832-e2a6-44a4-9961-e5766b76f3b5"
      },
      "source": [
        "from sklearn import tree\r\n",
        "import graphviz\r\n",
        "dot_data = tree.export_graphviz(classifier, out_file=None, \r\n",
        "                                feature_names= feature_names,\r\n",
        "                                class_names= target_names,\r\n",
        "                                filled=True, rounded=True,\r\n",
        "                                special_characters=True)  \r\n",
        "graph = graphviz.Source(dot_data)  \r\n",
        "graph"
      ],
      "execution_count": 15,
      "outputs": [
        {
          "output_type": "execute_result",
          "data": {
            "text/plain": [
              "<graphviz.files.Source at 0x7f3e434e62b0>"
            ],
            "image/svg+xml": "<?xml version=\"1.0\" encoding=\"UTF-8\" standalone=\"no\"?>\n<!DOCTYPE svg PUBLIC \"-//W3C//DTD SVG 1.1//EN\"\n \"http://www.w3.org/Graphics/SVG/1.1/DTD/svg11.dtd\">\n<!-- Generated by graphviz version 2.40.1 (20161225.0304)\n -->\n<!-- Title: Tree Pages: 1 -->\n<svg width=\"677pt\" height=\"552pt\"\n viewBox=\"0.00 0.00 676.50 552.00\" xmlns=\"http://www.w3.org/2000/svg\" xmlns:xlink=\"http://www.w3.org/1999/xlink\">\n<g id=\"graph0\" class=\"graph\" transform=\"scale(1 1) rotate(0) translate(4 548)\">\n<title>Tree</title>\n<polygon fill=\"#ffffff\" stroke=\"transparent\" points=\"-4,4 -4,-548 672.5,-548 672.5,4 -4,4\"/>\n<!-- 0 -->\n<g id=\"node1\" class=\"node\">\n<title>0</title>\n<path fill=\"#f8f4fe\" stroke=\"#000000\" d=\"M317.5,-544C317.5,-544 188.5,-544 188.5,-544 182.5,-544 176.5,-538 176.5,-532 176.5,-532 176.5,-473 176.5,-473 176.5,-467 182.5,-461 188.5,-461 188.5,-461 317.5,-461 317.5,-461 323.5,-461 329.5,-467 329.5,-473 329.5,-473 329.5,-532 329.5,-532 329.5,-538 323.5,-544 317.5,-544\"/>\n<text text-anchor=\"start\" x=\"184.5\" y=\"-528.8\" font-family=\"Helvetica,sans-Serif\" font-size=\"14.00\" fill=\"#000000\">petal_width_cm ≤ 0.8</text>\n<text text-anchor=\"start\" x=\"202\" y=\"-513.8\" font-family=\"Helvetica,sans-Serif\" font-size=\"14.00\" fill=\"#000000\">entropy = 1.581</text>\n<text text-anchor=\"start\" x=\"205\" y=\"-498.8\" font-family=\"Helvetica,sans-Serif\" font-size=\"14.00\" fill=\"#000000\">samples = 112</text>\n<text text-anchor=\"start\" x=\"191\" y=\"-483.8\" font-family=\"Helvetica,sans-Serif\" font-size=\"14.00\" fill=\"#000000\">value = [37, 34, 41]</text>\n<text text-anchor=\"start\" x=\"189.5\" y=\"-468.8\" font-family=\"Helvetica,sans-Serif\" font-size=\"14.00\" fill=\"#000000\">class = Iris&#45;virginica</text>\n</g>\n<!-- 1 -->\n<g id=\"node2\" class=\"node\">\n<title>1</title>\n<path fill=\"#e58139\" stroke=\"#000000\" d=\"M223.5,-417.5C223.5,-417.5 114.5,-417.5 114.5,-417.5 108.5,-417.5 102.5,-411.5 102.5,-405.5 102.5,-405.5 102.5,-361.5 102.5,-361.5 102.5,-355.5 108.5,-349.5 114.5,-349.5 114.5,-349.5 223.5,-349.5 223.5,-349.5 229.5,-349.5 235.5,-355.5 235.5,-361.5 235.5,-361.5 235.5,-405.5 235.5,-405.5 235.5,-411.5 229.5,-417.5 223.5,-417.5\"/>\n<text text-anchor=\"start\" x=\"126.5\" y=\"-402.3\" font-family=\"Helvetica,sans-Serif\" font-size=\"14.00\" fill=\"#000000\">entropy = 0.0</text>\n<text text-anchor=\"start\" x=\"125\" y=\"-387.3\" font-family=\"Helvetica,sans-Serif\" font-size=\"14.00\" fill=\"#000000\">samples = 37</text>\n<text text-anchor=\"start\" x=\"115.5\" y=\"-372.3\" font-family=\"Helvetica,sans-Serif\" font-size=\"14.00\" fill=\"#000000\">value = [37, 0, 0]</text>\n<text text-anchor=\"start\" x=\"110.5\" y=\"-357.3\" font-family=\"Helvetica,sans-Serif\" font-size=\"14.00\" fill=\"#000000\">class = Iris&#45;setosa</text>\n</g>\n<!-- 0&#45;&gt;1 -->\n<g id=\"edge1\" class=\"edge\">\n<title>0&#45;&gt;1</title>\n<path fill=\"none\" stroke=\"#000000\" d=\"M223.6209,-460.8796C215.7037,-449.6636 207.1269,-437.5131 199.1675,-426.2372\"/>\n<polygon fill=\"#000000\" stroke=\"#000000\" points=\"201.8486,-423.9662 193.2223,-417.8149 196.1298,-428.003 201.8486,-423.9662\"/>\n<text text-anchor=\"middle\" x=\"188.9746\" y=\"-438.7514\" font-family=\"Helvetica,sans-Serif\" font-size=\"14.00\" fill=\"#000000\">True</text>\n</g>\n<!-- 2 -->\n<g id=\"node3\" class=\"node\">\n<title>2</title>\n<path fill=\"#e9ddfb\" stroke=\"#000000\" d=\"M408.5,-425C408.5,-425 265.5,-425 265.5,-425 259.5,-425 253.5,-419 253.5,-413 253.5,-413 253.5,-354 253.5,-354 253.5,-348 259.5,-342 265.5,-342 265.5,-342 408.5,-342 408.5,-342 414.5,-342 420.5,-348 420.5,-354 420.5,-354 420.5,-413 420.5,-413 420.5,-419 414.5,-425 408.5,-425\"/>\n<text text-anchor=\"start\" x=\"261.5\" y=\"-409.8\" font-family=\"Helvetica,sans-Serif\" font-size=\"14.00\" fill=\"#000000\">petal_length_cm ≤ 4.95</text>\n<text text-anchor=\"start\" x=\"286\" y=\"-394.8\" font-family=\"Helvetica,sans-Serif\" font-size=\"14.00\" fill=\"#000000\">entropy = 0.994</text>\n<text text-anchor=\"start\" x=\"293\" y=\"-379.8\" font-family=\"Helvetica,sans-Serif\" font-size=\"14.00\" fill=\"#000000\">samples = 75</text>\n<text text-anchor=\"start\" x=\"279.5\" y=\"-364.8\" font-family=\"Helvetica,sans-Serif\" font-size=\"14.00\" fill=\"#000000\">value = [0, 34, 41]</text>\n<text text-anchor=\"start\" x=\"273.5\" y=\"-349.8\" font-family=\"Helvetica,sans-Serif\" font-size=\"14.00\" fill=\"#000000\">class = Iris&#45;virginica</text>\n</g>\n<!-- 0&#45;&gt;2 -->\n<g id=\"edge2\" class=\"edge\">\n<title>0&#45;&gt;2</title>\n<path fill=\"none\" stroke=\"#000000\" d=\"M282.3791,-460.8796C288.6094,-452.0534 295.2481,-442.6485 301.673,-433.5466\"/>\n<polygon fill=\"#000000\" stroke=\"#000000\" points=\"304.588,-435.4862 307.4955,-425.2981 298.8692,-431.4494 304.588,-435.4862\"/>\n<text text-anchor=\"middle\" x=\"311.7432\" y=\"-446.2346\" font-family=\"Helvetica,sans-Serif\" font-size=\"14.00\" fill=\"#000000\">False</text>\n</g>\n<!-- 3 -->\n<g id=\"node4\" class=\"node\">\n<title>3</title>\n<path fill=\"#4be78c\" stroke=\"#000000\" d=\"M316.5,-306C316.5,-306 179.5,-306 179.5,-306 173.5,-306 167.5,-300 167.5,-294 167.5,-294 167.5,-235 167.5,-235 167.5,-229 173.5,-223 179.5,-223 179.5,-223 316.5,-223 316.5,-223 322.5,-223 328.5,-229 328.5,-235 328.5,-235 328.5,-294 328.5,-294 328.5,-300 322.5,-306 316.5,-306\"/>\n<text text-anchor=\"start\" x=\"175.5\" y=\"-290.8\" font-family=\"Helvetica,sans-Serif\" font-size=\"14.00\" fill=\"#000000\">petal_width_cm ≤ 1.65</text>\n<text text-anchor=\"start\" x=\"197\" y=\"-275.8\" font-family=\"Helvetica,sans-Serif\" font-size=\"14.00\" fill=\"#000000\">entropy = 0.414</text>\n<text text-anchor=\"start\" x=\"204\" y=\"-260.8\" font-family=\"Helvetica,sans-Serif\" font-size=\"14.00\" fill=\"#000000\">samples = 36</text>\n<text text-anchor=\"start\" x=\"194.5\" y=\"-245.8\" font-family=\"Helvetica,sans-Serif\" font-size=\"14.00\" fill=\"#000000\">value = [0, 33, 3]</text>\n<text text-anchor=\"start\" x=\"180\" y=\"-230.8\" font-family=\"Helvetica,sans-Serif\" font-size=\"14.00\" fill=\"#000000\">class = Iris&#45;versicolor</text>\n</g>\n<!-- 2&#45;&gt;3 -->\n<g id=\"edge3\" class=\"edge\">\n<title>2&#45;&gt;3</title>\n<path fill=\"none\" stroke=\"#000000\" d=\"M305.8721,-341.8796C299.271,-333.0534 292.2371,-323.6485 285.4298,-314.5466\"/>\n<polygon fill=\"#000000\" stroke=\"#000000\" points=\"288.0528,-312.2099 279.2607,-306.2981 282.4472,-316.4024 288.0528,-312.2099\"/>\n</g>\n<!-- 8 -->\n<g id=\"node9\" class=\"node\">\n<title>8</title>\n<path fill=\"#843ee6\" stroke=\"#000000\" d=\"M495.5,-306C495.5,-306 358.5,-306 358.5,-306 352.5,-306 346.5,-300 346.5,-294 346.5,-294 346.5,-235 346.5,-235 346.5,-229 352.5,-223 358.5,-223 358.5,-223 495.5,-223 495.5,-223 501.5,-223 507.5,-229 507.5,-235 507.5,-235 507.5,-294 507.5,-294 507.5,-300 501.5,-306 495.5,-306\"/>\n<text text-anchor=\"start\" x=\"354.5\" y=\"-290.8\" font-family=\"Helvetica,sans-Serif\" font-size=\"14.00\" fill=\"#000000\">petal_width_cm ≤ 1.75</text>\n<text text-anchor=\"start\" x=\"376\" y=\"-275.8\" font-family=\"Helvetica,sans-Serif\" font-size=\"14.00\" fill=\"#000000\">entropy = 0.172</text>\n<text text-anchor=\"start\" x=\"383\" y=\"-260.8\" font-family=\"Helvetica,sans-Serif\" font-size=\"14.00\" fill=\"#000000\">samples = 39</text>\n<text text-anchor=\"start\" x=\"373.5\" y=\"-245.8\" font-family=\"Helvetica,sans-Serif\" font-size=\"14.00\" fill=\"#000000\">value = [0, 1, 38]</text>\n<text text-anchor=\"start\" x=\"363.5\" y=\"-230.8\" font-family=\"Helvetica,sans-Serif\" font-size=\"14.00\" fill=\"#000000\">class = Iris&#45;virginica</text>\n</g>\n<!-- 2&#45;&gt;8 -->\n<g id=\"edge8\" class=\"edge\">\n<title>2&#45;&gt;8</title>\n<path fill=\"none\" stroke=\"#000000\" d=\"M368.4776,-341.8796C375.1529,-333.0534 382.2658,-323.6485 389.1496,-314.5466\"/>\n<polygon fill=\"#000000\" stroke=\"#000000\" points=\"392.1474,-316.3852 395.388,-306.2981 386.5643,-312.1626 392.1474,-316.3852\"/>\n</g>\n<!-- 4 -->\n<g id=\"node5\" class=\"node\">\n<title>4</title>\n<path fill=\"#39e581\" stroke=\"#000000\" d=\"M140,-179.5C140,-179.5 12,-179.5 12,-179.5 6,-179.5 0,-173.5 0,-167.5 0,-167.5 0,-123.5 0,-123.5 0,-117.5 6,-111.5 12,-111.5 12,-111.5 140,-111.5 140,-111.5 146,-111.5 152,-117.5 152,-123.5 152,-123.5 152,-167.5 152,-167.5 152,-173.5 146,-179.5 140,-179.5\"/>\n<text text-anchor=\"start\" x=\"33.5\" y=\"-164.3\" font-family=\"Helvetica,sans-Serif\" font-size=\"14.00\" fill=\"#000000\">entropy = 0.0</text>\n<text text-anchor=\"start\" x=\"32\" y=\"-149.3\" font-family=\"Helvetica,sans-Serif\" font-size=\"14.00\" fill=\"#000000\">samples = 32</text>\n<text text-anchor=\"start\" x=\"22.5\" y=\"-134.3\" font-family=\"Helvetica,sans-Serif\" font-size=\"14.00\" fill=\"#000000\">value = [0, 32, 0]</text>\n<text text-anchor=\"start\" x=\"8\" y=\"-119.3\" font-family=\"Helvetica,sans-Serif\" font-size=\"14.00\" fill=\"#000000\">class = Iris&#45;versicolor</text>\n</g>\n<!-- 3&#45;&gt;4 -->\n<g id=\"edge4\" class=\"edge\">\n<title>3&#45;&gt;4</title>\n<path fill=\"none\" stroke=\"#000000\" d=\"M187.8427,-222.8796C170.2766,-210.7263 151.1248,-197.4759 133.7136,-185.4297\"/>\n<polygon fill=\"#000000\" stroke=\"#000000\" points=\"135.5357,-182.4344 125.3207,-179.623 131.553,-188.191 135.5357,-182.4344\"/>\n</g>\n<!-- 5 -->\n<g id=\"node6\" class=\"node\">\n<title>5</title>\n<path fill=\"#ab7bee\" stroke=\"#000000\" d=\"M315.5,-187C315.5,-187 182.5,-187 182.5,-187 176.5,-187 170.5,-181 170.5,-175 170.5,-175 170.5,-116 170.5,-116 170.5,-110 176.5,-104 182.5,-104 182.5,-104 315.5,-104 315.5,-104 321.5,-104 327.5,-110 327.5,-116 327.5,-116 327.5,-175 327.5,-175 327.5,-181 321.5,-187 315.5,-187\"/>\n<text text-anchor=\"start\" x=\"178.5\" y=\"-171.8\" font-family=\"Helvetica,sans-Serif\" font-size=\"14.00\" fill=\"#000000\">sepal_width_cm ≤ 3.1</text>\n<text text-anchor=\"start\" x=\"198\" y=\"-156.8\" font-family=\"Helvetica,sans-Serif\" font-size=\"14.00\" fill=\"#000000\">entropy = 0.811</text>\n<text text-anchor=\"start\" x=\"209.5\" y=\"-141.8\" font-family=\"Helvetica,sans-Serif\" font-size=\"14.00\" fill=\"#000000\">samples = 4</text>\n<text text-anchor=\"start\" x=\"199.5\" y=\"-126.8\" font-family=\"Helvetica,sans-Serif\" font-size=\"14.00\" fill=\"#000000\">value = [0, 1, 3]</text>\n<text text-anchor=\"start\" x=\"185.5\" y=\"-111.8\" font-family=\"Helvetica,sans-Serif\" font-size=\"14.00\" fill=\"#000000\">class = Iris&#45;virginica</text>\n</g>\n<!-- 3&#45;&gt;5 -->\n<g id=\"edge5\" class=\"edge\">\n<title>3&#45;&gt;5</title>\n<path fill=\"none\" stroke=\"#000000\" d=\"M248.3498,-222.8796C248.4186,-214.6838 248.4917,-205.9891 248.563,-197.5013\"/>\n<polygon fill=\"#000000\" stroke=\"#000000\" points=\"252.0645,-197.3272 248.6488,-187.2981 245.0648,-197.2683 252.0645,-197.3272\"/>\n</g>\n<!-- 6 -->\n<g id=\"node7\" class=\"node\">\n<title>6</title>\n<path fill=\"#8139e5\" stroke=\"#000000\" d=\"M145.5,-68C145.5,-68 26.5,-68 26.5,-68 20.5,-68 14.5,-62 14.5,-56 14.5,-56 14.5,-12 14.5,-12 14.5,-6 20.5,0 26.5,0 26.5,0 145.5,0 145.5,0 151.5,0 157.5,-6 157.5,-12 157.5,-12 157.5,-56 157.5,-56 157.5,-62 151.5,-68 145.5,-68\"/>\n<text text-anchor=\"start\" x=\"43.5\" y=\"-52.8\" font-family=\"Helvetica,sans-Serif\" font-size=\"14.00\" fill=\"#000000\">entropy = 0.0</text>\n<text text-anchor=\"start\" x=\"46.5\" y=\"-37.8\" font-family=\"Helvetica,sans-Serif\" font-size=\"14.00\" fill=\"#000000\">samples = 3</text>\n<text text-anchor=\"start\" x=\"36.5\" y=\"-22.8\" font-family=\"Helvetica,sans-Serif\" font-size=\"14.00\" fill=\"#000000\">value = [0, 0, 3]</text>\n<text text-anchor=\"start\" x=\"22.5\" y=\"-7.8\" font-family=\"Helvetica,sans-Serif\" font-size=\"14.00\" fill=\"#000000\">class = Iris&#45;virginica</text>\n</g>\n<!-- 5&#45;&gt;6 -->\n<g id=\"edge6\" class=\"edge\">\n<title>5&#45;&gt;6</title>\n<path fill=\"none\" stroke=\"#000000\" d=\"M188.3048,-103.9815C173.853,-94.0957 158.4658,-83.5701 144.132,-73.7651\"/>\n<polygon fill=\"#000000\" stroke=\"#000000\" points=\"146.059,-70.8428 135.8292,-68.0856 142.1068,-76.6204 146.059,-70.8428\"/>\n</g>\n<!-- 7 -->\n<g id=\"node8\" class=\"node\">\n<title>7</title>\n<path fill=\"#39e581\" stroke=\"#000000\" d=\"M316,-68C316,-68 188,-68 188,-68 182,-68 176,-62 176,-56 176,-56 176,-12 176,-12 176,-6 182,0 188,0 188,0 316,0 316,0 322,0 328,-6 328,-12 328,-12 328,-56 328,-56 328,-62 322,-68 316,-68\"/>\n<text text-anchor=\"start\" x=\"209.5\" y=\"-52.8\" font-family=\"Helvetica,sans-Serif\" font-size=\"14.00\" fill=\"#000000\">entropy = 0.0</text>\n<text text-anchor=\"start\" x=\"212.5\" y=\"-37.8\" font-family=\"Helvetica,sans-Serif\" font-size=\"14.00\" fill=\"#000000\">samples = 1</text>\n<text text-anchor=\"start\" x=\"202.5\" y=\"-22.8\" font-family=\"Helvetica,sans-Serif\" font-size=\"14.00\" fill=\"#000000\">value = [0, 1, 0]</text>\n<text text-anchor=\"start\" x=\"184\" y=\"-7.8\" font-family=\"Helvetica,sans-Serif\" font-size=\"14.00\" fill=\"#000000\">class = Iris&#45;versicolor</text>\n</g>\n<!-- 5&#45;&gt;7 -->\n<g id=\"edge7\" class=\"edge\">\n<title>5&#45;&gt;7</title>\n<path fill=\"none\" stroke=\"#000000\" d=\"M250.1171,-103.9815C250.3421,-95.618 250.5795,-86.7965 250.807,-78.3409\"/>\n<polygon fill=\"#000000\" stroke=\"#000000\" points=\"254.3078,-78.3542 251.0781,-68.2637 247.3103,-78.1659 254.3078,-78.3542\"/>\n</g>\n<!-- 9 -->\n<g id=\"node10\" class=\"node\">\n<title>9</title>\n<path fill=\"#ab7bee\" stroke=\"#000000\" d=\"M495.5,-187C495.5,-187 358.5,-187 358.5,-187 352.5,-187 346.5,-181 346.5,-175 346.5,-175 346.5,-116 346.5,-116 346.5,-110 352.5,-104 358.5,-104 358.5,-104 495.5,-104 495.5,-104 501.5,-104 507.5,-110 507.5,-116 507.5,-116 507.5,-175 507.5,-175 507.5,-181 501.5,-187 495.5,-187\"/>\n<text text-anchor=\"start\" x=\"354.5\" y=\"-171.8\" font-family=\"Helvetica,sans-Serif\" font-size=\"14.00\" fill=\"#000000\">petal_width_cm ≤ 1.65</text>\n<text text-anchor=\"start\" x=\"376\" y=\"-156.8\" font-family=\"Helvetica,sans-Serif\" font-size=\"14.00\" fill=\"#000000\">entropy = 0.811</text>\n<text text-anchor=\"start\" x=\"387.5\" y=\"-141.8\" font-family=\"Helvetica,sans-Serif\" font-size=\"14.00\" fill=\"#000000\">samples = 4</text>\n<text text-anchor=\"start\" x=\"377.5\" y=\"-126.8\" font-family=\"Helvetica,sans-Serif\" font-size=\"14.00\" fill=\"#000000\">value = [0, 1, 3]</text>\n<text text-anchor=\"start\" x=\"363.5\" y=\"-111.8\" font-family=\"Helvetica,sans-Serif\" font-size=\"14.00\" fill=\"#000000\">class = Iris&#45;virginica</text>\n</g>\n<!-- 8&#45;&gt;9 -->\n<g id=\"edge9\" class=\"edge\">\n<title>8&#45;&gt;9</title>\n<path fill=\"none\" stroke=\"#000000\" d=\"M427,-222.8796C427,-214.6838 427,-205.9891 427,-197.5013\"/>\n<polygon fill=\"#000000\" stroke=\"#000000\" points=\"430.5001,-197.298 427,-187.2981 423.5001,-197.2981 430.5001,-197.298\"/>\n</g>\n<!-- 12 -->\n<g id=\"node13\" class=\"node\">\n<title>12</title>\n<path fill=\"#8139e5\" stroke=\"#000000\" d=\"M656.5,-179.5C656.5,-179.5 537.5,-179.5 537.5,-179.5 531.5,-179.5 525.5,-173.5 525.5,-167.5 525.5,-167.5 525.5,-123.5 525.5,-123.5 525.5,-117.5 531.5,-111.5 537.5,-111.5 537.5,-111.5 656.5,-111.5 656.5,-111.5 662.5,-111.5 668.5,-117.5 668.5,-123.5 668.5,-123.5 668.5,-167.5 668.5,-167.5 668.5,-173.5 662.5,-179.5 656.5,-179.5\"/>\n<text text-anchor=\"start\" x=\"554.5\" y=\"-164.3\" font-family=\"Helvetica,sans-Serif\" font-size=\"14.00\" fill=\"#000000\">entropy = 0.0</text>\n<text text-anchor=\"start\" x=\"553\" y=\"-149.3\" font-family=\"Helvetica,sans-Serif\" font-size=\"14.00\" fill=\"#000000\">samples = 35</text>\n<text text-anchor=\"start\" x=\"543.5\" y=\"-134.3\" font-family=\"Helvetica,sans-Serif\" font-size=\"14.00\" fill=\"#000000\">value = [0, 0, 35]</text>\n<text text-anchor=\"start\" x=\"533.5\" y=\"-119.3\" font-family=\"Helvetica,sans-Serif\" font-size=\"14.00\" fill=\"#000000\">class = Iris&#45;virginica</text>\n</g>\n<!-- 8&#45;&gt;12 -->\n<g id=\"edge12\" class=\"edge\">\n<title>8&#45;&gt;12</title>\n<path fill=\"none\" stroke=\"#000000\" d=\"M486.4578,-222.8796C503.8196,-210.7263 522.7488,-197.4759 539.9575,-185.4297\"/>\n<polygon fill=\"#000000\" stroke=\"#000000\" points=\"542.0676,-188.225 548.2528,-179.623 538.0533,-182.4904 542.0676,-188.225\"/>\n</g>\n<!-- 10 -->\n<g id=\"node11\" class=\"node\">\n<title>10</title>\n<path fill=\"#8139e5\" stroke=\"#000000\" d=\"M483.5,-68C483.5,-68 364.5,-68 364.5,-68 358.5,-68 352.5,-62 352.5,-56 352.5,-56 352.5,-12 352.5,-12 352.5,-6 358.5,0 364.5,0 364.5,0 483.5,0 483.5,0 489.5,0 495.5,-6 495.5,-12 495.5,-12 495.5,-56 495.5,-56 495.5,-62 489.5,-68 483.5,-68\"/>\n<text text-anchor=\"start\" x=\"381.5\" y=\"-52.8\" font-family=\"Helvetica,sans-Serif\" font-size=\"14.00\" fill=\"#000000\">entropy = 0.0</text>\n<text text-anchor=\"start\" x=\"384.5\" y=\"-37.8\" font-family=\"Helvetica,sans-Serif\" font-size=\"14.00\" fill=\"#000000\">samples = 3</text>\n<text text-anchor=\"start\" x=\"374.5\" y=\"-22.8\" font-family=\"Helvetica,sans-Serif\" font-size=\"14.00\" fill=\"#000000\">value = [0, 0, 3]</text>\n<text text-anchor=\"start\" x=\"360.5\" y=\"-7.8\" font-family=\"Helvetica,sans-Serif\" font-size=\"14.00\" fill=\"#000000\">class = Iris&#45;virginica</text>\n</g>\n<!-- 9&#45;&gt;10 -->\n<g id=\"edge10\" class=\"edge\">\n<title>9&#45;&gt;10</title>\n<path fill=\"none\" stroke=\"#000000\" d=\"M425.8829,-103.9815C425.6579,-95.618 425.4205,-86.7965 425.193,-78.3409\"/>\n<polygon fill=\"#000000\" stroke=\"#000000\" points=\"428.6897,-78.1659 424.9219,-68.2637 421.6922,-78.3542 428.6897,-78.1659\"/>\n</g>\n<!-- 11 -->\n<g id=\"node12\" class=\"node\">\n<title>11</title>\n<path fill=\"#39e581\" stroke=\"#000000\" d=\"M654,-68C654,-68 526,-68 526,-68 520,-68 514,-62 514,-56 514,-56 514,-12 514,-12 514,-6 520,0 526,0 526,0 654,0 654,0 660,0 666,-6 666,-12 666,-12 666,-56 666,-56 666,-62 660,-68 654,-68\"/>\n<text text-anchor=\"start\" x=\"547.5\" y=\"-52.8\" font-family=\"Helvetica,sans-Serif\" font-size=\"14.00\" fill=\"#000000\">entropy = 0.0</text>\n<text text-anchor=\"start\" x=\"550.5\" y=\"-37.8\" font-family=\"Helvetica,sans-Serif\" font-size=\"14.00\" fill=\"#000000\">samples = 1</text>\n<text text-anchor=\"start\" x=\"540.5\" y=\"-22.8\" font-family=\"Helvetica,sans-Serif\" font-size=\"14.00\" fill=\"#000000\">value = [0, 1, 0]</text>\n<text text-anchor=\"start\" x=\"522\" y=\"-7.8\" font-family=\"Helvetica,sans-Serif\" font-size=\"14.00\" fill=\"#000000\">class = Iris&#45;versicolor</text>\n</g>\n<!-- 9&#45;&gt;11 -->\n<g id=\"edge11\" class=\"edge\">\n<title>9&#45;&gt;11</title>\n<path fill=\"none\" stroke=\"#000000\" d=\"M487.6952,-103.9815C502.147,-94.0957 517.5342,-83.5701 531.868,-73.7651\"/>\n<polygon fill=\"#000000\" stroke=\"#000000\" points=\"533.8932,-76.6204 540.1708,-68.0856 529.941,-70.8428 533.8932,-76.6204\"/>\n</g>\n</g>\n</svg>\n"
          },
          "metadata": {
            "tags": []
          },
          "execution_count": 15
        }
      ]
    },
    {
      "cell_type": "code",
      "metadata": {
        "colab": {
          "base_uri": "https://localhost:8080/",
          "height": 306
        },
        "id": "oqq2kcysX3jq",
        "outputId": "020a1032-0f96-44e8-ea8e-120549325dde"
      },
      "source": [
        "from sklearn.datasets import load_iris\r\n",
        "from sklearn.tree import DecisionTreeClassifier, plot_tree\r\n",
        "\r\n",
        "# Parameters\r\n",
        "n_classes = 3\r\n",
        "plot_colors = \"ryb\"\r\n",
        "plot_step = 0.02\r\n",
        "\r\n",
        "# Load data\r\n",
        "iris = load_iris()\r\n",
        "\r\n",
        "for pairidx, pair in enumerate([[0, 1], [0, 2], [0, 3],\r\n",
        "                                [1, 2], [1, 3], [2, 3]]):\r\n",
        "    # We only take the two corresponding features\r\n",
        "    X = iris.data[:, pair]\r\n",
        "    y = iris.target\r\n",
        "\r\n",
        "    # Train\r\n",
        "    clf = DecisionTreeClassifier().fit(X, y)\r\n",
        "\r\n",
        "    # Plot the decision boundary\r\n",
        " \r\n",
        "    plt.subplot(2, 3, pairidx + 1)\r\n",
        "\r\n",
        "    x_min, x_max = X[:, 0].min() - 1, X[:, 0].max() + 1\r\n",
        "    y_min, y_max = X[:, 1].min() - 1, X[:, 1].max() + 1\r\n",
        "    xx, yy = np.meshgrid(np.arange(x_min, x_max, plot_step),\r\n",
        "                         np.arange(y_min, y_max, plot_step))\r\n",
        "    plt.tight_layout(h_pad=0.5, w_pad=0.5, pad=2.5)\r\n",
        "\r\n",
        "    Z = clf.predict(np.c_[xx.ravel(), yy.ravel()])\r\n",
        "    Z = Z.reshape(xx.shape)\r\n",
        "    cs = plt.contourf(xx, yy, Z, cmap=plt.cm.RdYlBu)\r\n",
        "\r\n",
        "    plt.xlabel(iris.feature_names[pair[0]])\r\n",
        "    plt.ylabel(iris.feature_names[pair[1]])\r\n",
        "\r\n",
        "    # Plot the training points\r\n",
        "    for i, color in zip(range(n_classes), plot_colors):\r\n",
        "        idx = np.where(y == i)\r\n",
        "        plt.scatter(X[idx, 0], X[idx, 1], c=color, label=iris.target_names[i],\r\n",
        "                    cmap=plt.cm.RdYlBu, edgecolor='black', s=15)\r\n",
        "\r\n",
        "plt.suptitle(\"Decision surface of a decision tree using paired features\")\r\n",
        "plt.legend(loc='lower right', borderpad=0, handletextpad=0)\r\n",
        "plt.axis(\"tight\")"
      ],
      "execution_count": 17,
      "outputs": [
        {
          "output_type": "execute_result",
          "data": {
            "text/plain": [
              "(0.0, 7.88, -0.9, 3.4800000000000044)"
            ]
          },
          "metadata": {
            "tags": []
          },
          "execution_count": 17
        },
        {
          "output_type": "display_data",
          "data": {
            "image/png": "[encoded data removed]",
            "text/plain": [
              "<Figure size 432x288 with 6 Axes>"
            ]
          },
          "metadata": {
            "tags": [],
            "needs_background": "light"
          }
        }
      ]
    }
  ]
}